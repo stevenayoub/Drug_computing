{
 "cells": [
  {
   "cell_type": "markdown",
   "metadata": {
    "id": "i-3XyaYu09Lb"
   },
   "source": [
    "[![Open in Colab](https://colab.research.google.com/assets/colab-badge.svg)](https://colab.research.google.com/github/MobleyLab/drug-computing/blob/master/uci-pharmsci/assignments/energy_minimization/energy_minimization_assignment.ipynb)"
   ]
  },
  {
   "cell_type": "markdown",
   "metadata": {
    "id": "HDy6rJla5cdI"
   },
   "source": [
    "# Energy Minimization Assignment, PharmSci 175/275\n",
    "##### By David Mobley (UCI), Jan. 2018\n",
    "\n",
    "##### Adapted with permission from an assignment by M. Scott Shell (UCSB)\n",
    "\n",
    "## Overview\n",
    "In this assignment, you will begin with a provided template and several functions, as well as a Fortran library, and add additional code to perform a conjugate-gradient minimization. That is, you will write a conjugate-gradient minimizer. You will then apply this minimize to generate Lennard-Jones clusters with varying numbers of particles, and look at how the energy varies as a function of cluster size.  \n",
    "\n",
    "The Jupyter notebook for this assignment is laid out with action items YOU need to take labeled as Step 1-7. These are interspersed with background information on the problem, some examples, and a sandbox section to tinker with some of the functions. So read on, and watch for the sections which require your action.\n",
    "\n",
    "## What are Lennard-Jones clusters?\n",
    "\n",
    "Clusters are small, stable packings of (often spherical) particles. These particles could be colloidal particles, nanoparticles, etc. There has been considerable work spent studying these clusters over the years, from atomic sizes up to colloidal particles in the nanometer to micrometers scale. Cluster analysis is important to understanding a range of phenomena, including structures of solids, aggregation and precipitation of particles, the structure of nanomaterials, self-assembly behavior of synthetic and biomolecular systems, and diffusion in dense liquids.\n",
    "\n",
    "A cluster can be characterized by the number and type of particles and the energetic interactions between them. Here, we will examine Lennard-Jones (LJ) clusters, which are clusters of simple attractive spherical particles with interactions modeled by the Lennard-Jones interaction. \n",
    "\n",
    "For LJ clusters, there are cluster sizes of unusual stability. These are called magic number clusters and correspond to cluster sizes where the packing of atoms is particularly efficient, leading to very favorable energies and hence exceptional stability. The most stable such clusters are built from an icosahedral arrangement of particles, and the first few such **magic numbers** for cluster sizes of icosahedral geometries are 13, 19, 38, 55, and 75. \n",
    "\n",
    "These clusters are still interesting from a basic physical chemistry point of view, but our interest here is mainly in (a) energy minimization algorithms, and (b) learning how to do non-trivial numerics in Python.\n",
    "\n",
    "## Here, we will energy minimize Lennard-Jones clusters of different sizes\n",
    "\n",
    "Here, we will examine different numbers of particles and attempt to find the minimum energy cluster for each number of particles. Our energy model will use the LJ potential in its dimensionless form (meaning that we have changed units so that all of the constants are hidden in the units). We denote this by putting a star on the potential:\n",
    "\n",
    "\\begin{equation}\n",
    "U^* = \\sum \\limits_{i<j} 4(r_{ij}^{-12} - r_{ij}^{-6})\n",
    "\\end{equation}\n",
    "\n",
    "We will start with a random initial configuration of particles, and try to use an energy minimization algorithm to find the most stable configuration of particles. But when there are more than just a few particles, there will be more than one local minimum, so there is no guarantee the energy minimizer will find the global minimum. In such cases, we will need to minimize from random initial configurations many times in order to ensure we locate the global minimum.\n",
    "There is also the possibility of forming multiple separate clusters separated by a significant difference. This is not unlikely, since the LJ interaction is only very weakly attractive at large distances. So, to ensure we form single clusters, we will use a weak biasing potential to pull all of the particles towards the origin, biasing the system towards forming a single cluster. Otherwise, the LJ potential will tend to be too weak to pull together very distant particles in these tests. We will use a harmonic biasing potential, so that the total potential energy (“force field”) is:\n",
    "\n",
    "\\begin{equation}\n",
    "U^* = \\sum\\limits_i \\alpha |\\mathbf{r}_i|^2 + \\sum \\limits_{i<j} 4(r_{ij}^{-12} - r_{ij}^{-6})\n",
    "\\end{equation}\n",
    "\n",
    "Here we will use $\\alpha = 0.0001 N^{-2/3}$ where $N$ is the number of particles; this will be a very small number. This particular form is selected so that the energy due to this term for a cluster of $N$ particles is, on average, constant regardless of $N$.\n",
    "\n",
    "## Additional details\n",
    "For this assignment, your job is to perform a conjugate-gradient minimization of Lennard-Jones particles which are initially randomly distributed in space. I am providing several items for you:\n",
    "* A Fortran library (emlib) which you can use within Python to calculate energies and forces\n",
    "* A Python library (pos_to_pdb.py) which you can use to output structures to your disk to visualize motion of your particles (for example with PyMol) if you so desire\n",
    "* A template for your assignment (below) in iPython notebook format; this also will be posted on the class website in plain Python format in case my experiment with iPython notebooks fails here. \n",
    " * This template contains some code which will get you started, including code for a line search minimization. \n",
    " * It also contains places for you to write the functions (outlined below) you need to write to complete the assignment.\n",
    "* Here we will be using position and force arrays to represent positions/forces on all of the atoms in the system. Make sure you are [comfortable with that notation](https://github.com/MobleyLab/drug-computing/blob/master/uci-pharmsci/lectures/energy_minimization/energy_minimization.ipynb) before beginning.\n",
    " \n",
    "## A quick (but important) note on Notebook usage:\n",
    "iPython notebooks such as this one often contain a variety of cells containing code. These are normally intended to be run, which you can when you have an individual cell selected, by hitting the button at the top with a 'play' symbol, or by typing shift-enter. If you do NOT do so on each of the cells defining variables/functions which will be used here, then you will encounter an error about undefined variables when you run the later cells. \n",
    " \n",
    "## Your step 1 for the assignment: Start by doing some file bookkeeping:\n",
    " * Find `emlib.f90` and optional utility `pos_to_pdb.py` in this directory. **If you are on Google Colab**, you will need to have uploaded this library and/or the directory enclosing it to Google Drive, mount Google Drive, and navigate to the directory containing this library.** See notes below on \"Installing Packages\" as well as background in `Getting_Started.ipynb`.\n",
    " * In the command prompt navigate to that folder and type 'f2py -c -m emlib emlib.f90' which should compile the fortran library for use within python (For more on F2Py, refer to the [f2py documentation](https://numpy.org/doc/stable/f2py)). In OS X, this may require you to install the (free) XCode developer tools (available from the Mac App store) and the command-line developer tools first (the latter via `xcode-select --install`). In Linux it should just work. Windows would be a hurdle.\n",
    " * In your command prompt, start theis Jupyter notebook (in OSX this would be something like 'Jupyter notebook energy_minimization_assignment'), which should open it in your web browser; you're running it already unless you are looking at the HTML version of this file.\n",
    " \n",
    "Template Python code for the assignment is provided below. I suggest making a new notebook which is a copy of this one (perhaps containing your name in the filename) and working from there. \n"
   ]
  },
  {
   "cell_type": "markdown",
   "metadata": {
    "id": "j5JVt6OP5fKs"
   },
   "source": [
    "## Installing Packages\n",
    "\n",
    "If you are running this notebook locally, you should have installed everything already. If you are running **on Google Colab** you will likely need to install prerequisites. (On occasion, Google Colab has had a fortran compiler installed already, meaning it might not be necessary to install anything, but this is typically not the case.)\n",
    "\n",
    "If you are running this on Google Colab, you will typically need to add the installation blocks from the [getting started notebook](https://github.com/MobleyLab/drug-computing/blob/master/uci-pharmsci/Getting_Started.ipynb) here **in a new code block** and then execute the code below. \n",
    "\n"
   ]
  },
  {
   "cell_type": "markdown",
   "metadata": {},
   "source": [
    "## Next, we prep Python for the work:\n",
    " \n",
    " First we import the numpy numerical library we're going to need, as well as the compiled Fortran library emlib"
   ]
  },
  {
   "cell_type": "code",
   "execution_count": 1,
   "metadata": {
    "id": "DiyM0EjL5cdN"
   },
   "outputs": [
    {
     "ename": "TypeError",
     "evalue": "'in <string>' requires string as left operand, not Array",
     "output_type": "error",
     "traceback": [
      "\u001b[0;31m---------------------------------------------------------------------------\u001b[0m",
      "\u001b[0;31mTypeError\u001b[0m                                 Traceback (most recent call last)",
      "Cell \u001b[0;32mIn[1], line 4\u001b[0m\n\u001b[1;32m      2\u001b[0m \u001b[38;5;28;01mfrom\u001b[39;00m\u001b[38;5;250m \u001b[39m\u001b[38;5;21;01mpos_to_pdb\u001b[39;00m\u001b[38;5;250m \u001b[39m\u001b[38;5;28;01mimport\u001b[39;00m \u001b[38;5;241m*\u001b[39m  \u001b[38;5;66;03m#This would allow you to export coordinates if you want, later\u001b[39;00m\n\u001b[1;32m      3\u001b[0m \u001b[38;5;28;01mimport\u001b[39;00m\u001b[38;5;250m \u001b[39m\u001b[38;5;21;01memlib\u001b[39;00m\n\u001b[0;32m----> 4\u001b[0m \u001b[38;5;28;01mimport\u001b[39;00m\u001b[38;5;250m \u001b[39m\u001b[38;5;21;01mpy_emlib\u001b[39;00m\n",
      "File \u001b[0;32m~/drug-computing/uci-pharmsci/assignments/energy_minimization/py_emlib.py:49\u001b[0m\n\u001b[1;32m     46\u001b[0m     PEnergy \u001b[38;5;241m=\u001b[39m total_pairwise_energy \u001b[38;5;241m+\u001b[39m position_energy\n\u001b[1;32m     47\u001b[0m     \u001b[38;5;28;01mreturn\u001b[39;00m PEnergy\n\u001b[0;32m---> 49\u001b[0m \u001b[38;5;129;43m@guvectorize\u001b[39;49m\u001b[43m(\u001b[49m\u001b[43m[\u001b[49m\u001b[43m(\u001b[49m\u001b[43mfloat64\u001b[49m\u001b[43m[\u001b[49m\u001b[43m:\u001b[49m\u001b[43m]\u001b[49m\u001b[43m)\u001b[49m\u001b[43m]\u001b[49m\u001b[43m)\u001b[49m\n\u001b[1;32m     50\u001b[0m \u001b[38;5;28;43;01mdef\u001b[39;49;00m\u001b[38;5;250;43m \u001b[39;49m\u001b[38;5;21;43mcalc_forces\u001b[39;49m\u001b[43m(\u001b[49m\u001b[43mPos\u001b[49m\u001b[43m)\u001b[49m\u001b[43m:\u001b[49m\n\u001b[1;32m     51\u001b[0m \u001b[43m    \u001b[49m\u001b[43mPos\u001b[49m\u001b[43m \u001b[49m\u001b[38;5;241;43m=\u001b[39;49m\u001b[43m \u001b[49m\u001b[43mnp\u001b[49m\u001b[38;5;241;43m.\u001b[39;49m\u001b[43marray\u001b[49m\u001b[43m(\u001b[49m\u001b[43mPos\u001b[49m\u001b[43m,\u001b[49m\u001b[43m \u001b[49m\u001b[43mdtype\u001b[49m\u001b[38;5;241;43m=\u001b[39;49m\u001b[43mnp\u001b[49m\u001b[38;5;241;43m.\u001b[39;49m\u001b[43mfloat64\u001b[49m\u001b[43m)\u001b[49m\n\u001b[1;32m     52\u001b[0m \u001b[43m    \u001b[49m\u001b[43mNAtom\u001b[49m\u001b[43m,\u001b[49m\u001b[43m \u001b[49m\u001b[43mDim\u001b[49m\u001b[43m \u001b[49m\u001b[38;5;241;43m=\u001b[39;49m\u001b[43m \u001b[49m\u001b[43mPos\u001b[49m\u001b[38;5;241;43m.\u001b[39;49m\u001b[43mshape\u001b[49m\n",
      "File \u001b[0;32m/opt/miniconda3/envs/drug_comp_env/lib/python3.11/site-packages/numba/np/ufunc/decorators.py:201\u001b[0m, in \u001b[0;36mguvectorize.<locals>.wrap\u001b[0;34m(func)\u001b[0m\n\u001b[1;32m    200\u001b[0m \u001b[38;5;28;01mdef\u001b[39;00m\u001b[38;5;250m \u001b[39m\u001b[38;5;21mwrap\u001b[39m(func):\n\u001b[0;32m--> 201\u001b[0m     guvec \u001b[38;5;241m=\u001b[39m \u001b[43mGUVectorize\u001b[49m\u001b[43m(\u001b[49m\u001b[43mfunc\u001b[49m\u001b[43m,\u001b[49m\u001b[43m \u001b[49m\u001b[43msignature\u001b[49m\u001b[43m,\u001b[49m\u001b[43m \u001b[49m\u001b[38;5;241;43m*\u001b[39;49m\u001b[38;5;241;43m*\u001b[39;49m\u001b[43mkwargs\u001b[49m\u001b[43m)\u001b[49m\n\u001b[1;32m    202\u001b[0m     \u001b[38;5;28;01mfor\u001b[39;00m fty \u001b[38;5;129;01min\u001b[39;00m ftylist:\n\u001b[1;32m    203\u001b[0m         guvec\u001b[38;5;241m.\u001b[39madd(fty)\n",
      "File \u001b[0;32m/opt/miniconda3/envs/drug_comp_env/lib/python3.11/site-packages/numba/np/ufunc/decorators.py:56\u001b[0m, in \u001b[0;36mGUVectorize.__new__\u001b[0;34m(cls, func, signature, **kws)\u001b[0m\n\u001b[1;32m     54\u001b[0m \u001b[38;5;28;01mif\u001b[39;00m imp \u001b[38;5;129;01mis\u001b[39;00m gufunc\u001b[38;5;241m.\u001b[39mGUFunc:\n\u001b[1;32m     55\u001b[0m     is_dyn \u001b[38;5;241m=\u001b[39m kws\u001b[38;5;241m.\u001b[39mpop(\u001b[38;5;124m'\u001b[39m\u001b[38;5;124mis_dynamic\u001b[39m\u001b[38;5;124m'\u001b[39m, \u001b[38;5;28;01mFalse\u001b[39;00m)\n\u001b[0;32m---> 56\u001b[0m     \u001b[38;5;28;01mreturn\u001b[39;00m \u001b[43mimp\u001b[49m\u001b[43m(\u001b[49m\u001b[43mfunc\u001b[49m\u001b[43m,\u001b[49m\u001b[43m \u001b[49m\u001b[43msignature\u001b[49m\u001b[43m,\u001b[49m\u001b[43m \u001b[49m\u001b[43midentity\u001b[49m\u001b[38;5;241;43m=\u001b[39;49m\u001b[43midentity\u001b[49m\u001b[43m,\u001b[49m\u001b[43m \u001b[49m\u001b[43mcache\u001b[49m\u001b[38;5;241;43m=\u001b[39;49m\u001b[43mcache\u001b[49m\u001b[43m,\u001b[49m\n\u001b[1;32m     57\u001b[0m \u001b[43m               \u001b[49m\u001b[43mis_dynamic\u001b[49m\u001b[38;5;241;43m=\u001b[39;49m\u001b[43mis_dyn\u001b[49m\u001b[43m,\u001b[49m\u001b[43m \u001b[49m\u001b[43mtargetoptions\u001b[49m\u001b[38;5;241;43m=\u001b[39;49m\u001b[43mkws\u001b[49m\u001b[43m,\u001b[49m\n\u001b[1;32m     58\u001b[0m \u001b[43m               \u001b[49m\u001b[43mwritable_args\u001b[49m\u001b[38;5;241;43m=\u001b[39;49m\u001b[43mwritable_args\u001b[49m\u001b[43m)\u001b[49m\n\u001b[1;32m     59\u001b[0m \u001b[38;5;28;01melse\u001b[39;00m:\n\u001b[1;32m     60\u001b[0m     \u001b[38;5;28;01mreturn\u001b[39;00m imp(func, signature, identity\u001b[38;5;241m=\u001b[39midentity, cache\u001b[38;5;241m=\u001b[39mcache,\n\u001b[1;32m     61\u001b[0m                targetoptions\u001b[38;5;241m=\u001b[39mkws, writable_args\u001b[38;5;241m=\u001b[39mwritable_args)\n",
      "File \u001b[0;32m/opt/miniconda3/envs/drug_comp_env/lib/python3.11/site-packages/numba/np/ufunc/gufunc.py:77\u001b[0m, in \u001b[0;36mGUFunc.__init__\u001b[0;34m(self, py_func, signature, identity, cache, is_dynamic, targetoptions, writable_args)\u001b[0m\n\u001b[1;32m     72\u001b[0m \u001b[38;5;28mself\u001b[39m\u001b[38;5;241m.\u001b[39m_identity \u001b[38;5;241m=\u001b[39m identity\n\u001b[1;32m     74\u001b[0m \u001b[38;5;66;03m# GUFunc cannot inherit from GUFuncBuilder because \"identity\"\u001b[39;00m\n\u001b[1;32m     75\u001b[0m \u001b[38;5;66;03m# is a property of GUFunc. Thus, we hold a reference to a GUFuncBuilder\u001b[39;00m\n\u001b[1;32m     76\u001b[0m \u001b[38;5;66;03m# object here\u001b[39;00m\n\u001b[0;32m---> 77\u001b[0m \u001b[38;5;28mself\u001b[39m\u001b[38;5;241m.\u001b[39mgufunc_builder \u001b[38;5;241m=\u001b[39m \u001b[43mGUFuncBuilder\u001b[49m\u001b[43m(\u001b[49m\n\u001b[1;32m     78\u001b[0m \u001b[43m    \u001b[49m\u001b[43mpy_func\u001b[49m\u001b[43m,\u001b[49m\u001b[43m \u001b[49m\u001b[43msignature\u001b[49m\u001b[43m,\u001b[49m\u001b[43m \u001b[49m\u001b[43midentity\u001b[49m\u001b[43m,\u001b[49m\u001b[43m \u001b[49m\u001b[43mcache\u001b[49m\u001b[43m,\u001b[49m\u001b[43m \u001b[49m\u001b[43mtargetoptions\u001b[49m\u001b[43m,\u001b[49m\u001b[43m \u001b[49m\u001b[43mwritable_args\u001b[49m\u001b[43m)\u001b[49m\n\u001b[1;32m     80\u001b[0m \u001b[38;5;28mself\u001b[39m\u001b[38;5;241m.\u001b[39m\u001b[38;5;18m__name__\u001b[39m \u001b[38;5;241m=\u001b[39m \u001b[38;5;28mself\u001b[39m\u001b[38;5;241m.\u001b[39mgufunc_builder\u001b[38;5;241m.\u001b[39mpy_func\u001b[38;5;241m.\u001b[39m\u001b[38;5;18m__name__\u001b[39m\n\u001b[1;32m     81\u001b[0m \u001b[38;5;28mself\u001b[39m\u001b[38;5;241m.\u001b[39m\u001b[38;5;18m__doc__\u001b[39m \u001b[38;5;241m=\u001b[39m \u001b[38;5;28mself\u001b[39m\u001b[38;5;241m.\u001b[39mgufunc_builder\u001b[38;5;241m.\u001b[39mpy_func\u001b[38;5;241m.\u001b[39m\u001b[38;5;18m__doc__\u001b[39m\n",
      "File \u001b[0;32m/opt/miniconda3/envs/drug_comp_env/lib/python3.11/site-packages/numba/np/ufunc/ufuncbuilder.py:347\u001b[0m, in \u001b[0;36mGUFuncBuilder.__init__\u001b[0;34m(self, py_func, signature, identity, cache, targetoptions, writable_args)\u001b[0m\n\u001b[1;32m    345\u001b[0m     \u001b[38;5;28mself\u001b[39m\u001b[38;5;241m.\u001b[39mnb_func \u001b[38;5;241m=\u001b[39m jit(_target\u001b[38;5;241m=\u001b[39m\u001b[38;5;124m'\u001b[39m\u001b[38;5;124mnpyufunc\u001b[39m\u001b[38;5;124m'\u001b[39m, cache\u001b[38;5;241m=\u001b[39mcache)(py_func)\n\u001b[1;32m    346\u001b[0m \u001b[38;5;28mself\u001b[39m\u001b[38;5;241m.\u001b[39msignature \u001b[38;5;241m=\u001b[39m signature\n\u001b[0;32m--> 347\u001b[0m \u001b[38;5;28mself\u001b[39m\u001b[38;5;241m.\u001b[39msin, \u001b[38;5;28mself\u001b[39m\u001b[38;5;241m.\u001b[39msout \u001b[38;5;241m=\u001b[39m \u001b[43mparse_signature\u001b[49m\u001b[43m(\u001b[49m\u001b[43msignature\u001b[49m\u001b[43m)\u001b[49m\n\u001b[1;32m    348\u001b[0m \u001b[38;5;28mself\u001b[39m\u001b[38;5;241m.\u001b[39mtargetoptions \u001b[38;5;241m=\u001b[39m targetoptions\n\u001b[1;32m    349\u001b[0m \u001b[38;5;28mself\u001b[39m\u001b[38;5;241m.\u001b[39mcache \u001b[38;5;241m=\u001b[39m cache\n",
      "File \u001b[0;32m/opt/miniconda3/envs/drug_comp_env/lib/python3.11/site-packages/numba/np/ufunc/sigparse.py:47\u001b[0m, in \u001b[0;36mparse_signature\u001b[0;34m(sig)\u001b[0m\n\u001b[1;32m     44\u001b[0m         \u001b[38;5;28;01melse\u001b[39;00m:\n\u001b[1;32m     45\u001b[0m             \u001b[38;5;28;01mraise\u001b[39;00m \u001b[38;5;167;01mValueError\u001b[39;00m(\u001b[38;5;124m'\u001b[39m\u001b[38;5;124mbad token in signature \u001b[39m\u001b[38;5;124m\"\u001b[39m\u001b[38;5;132;01m%s\u001b[39;00m\u001b[38;5;124m\"\u001b[39m\u001b[38;5;124m'\u001b[39m \u001b[38;5;241m%\u001b[39m tok[\u001b[38;5;241m1\u001b[39m])\n\u001b[0;32m---> 47\u001b[0m ins, _, outs \u001b[38;5;241m=\u001b[39m \u001b[43mstripws\u001b[49m\u001b[43m(\u001b[49m\u001b[43msig\u001b[49m\u001b[43m)\u001b[49m\u001b[38;5;241m.\u001b[39mpartition(\u001b[38;5;124m'\u001b[39m\u001b[38;5;124m->\u001b[39m\u001b[38;5;124m'\u001b[39m)\n\u001b[1;32m     48\u001b[0m inputs \u001b[38;5;241m=\u001b[39m \u001b[38;5;28mlist\u001b[39m(parse(ins))\n\u001b[1;32m     49\u001b[0m outputs \u001b[38;5;241m=\u001b[39m \u001b[38;5;28mlist\u001b[39m(parse(outs))\n",
      "File \u001b[0;32m/opt/miniconda3/envs/drug_comp_env/lib/python3.11/site-packages/numba/np/ufunc/sigparse.py:12\u001b[0m, in \u001b[0;36mparse_signature.<locals>.stripws\u001b[0;34m(s)\u001b[0m\n\u001b[1;32m     11\u001b[0m \u001b[38;5;28;01mdef\u001b[39;00m\u001b[38;5;250m \u001b[39m\u001b[38;5;21mstripws\u001b[39m(s):\n\u001b[0;32m---> 12\u001b[0m     \u001b[38;5;28;01mreturn\u001b[39;00m \u001b[38;5;124;43m'\u001b[39;49m\u001b[38;5;124;43m'\u001b[39;49m\u001b[38;5;241;43m.\u001b[39;49m\u001b[43mjoin\u001b[49m\u001b[43m(\u001b[49m\u001b[43mc\u001b[49m\u001b[43m \u001b[49m\u001b[38;5;28;43;01mfor\u001b[39;49;00m\u001b[43m \u001b[49m\u001b[43mc\u001b[49m\u001b[43m \u001b[49m\u001b[38;5;129;43;01min\u001b[39;49;00m\u001b[43m \u001b[49m\u001b[43ms\u001b[49m\u001b[43m \u001b[49m\u001b[38;5;28;43;01mif\u001b[39;49;00m\u001b[43m \u001b[49m\u001b[43mc\u001b[49m\u001b[43m \u001b[49m\u001b[38;5;129;43;01mnot\u001b[39;49;00m\u001b[43m \u001b[49m\u001b[38;5;129;43;01min\u001b[39;49;00m\u001b[43m \u001b[49m\u001b[43mstring\u001b[49m\u001b[38;5;241;43m.\u001b[39;49m\u001b[43mwhitespace\u001b[49m\u001b[43m)\u001b[49m\n",
      "File \u001b[0;32m/opt/miniconda3/envs/drug_comp_env/lib/python3.11/site-packages/numba/np/ufunc/sigparse.py:12\u001b[0m, in \u001b[0;36m<genexpr>\u001b[0;34m(.0)\u001b[0m\n\u001b[1;32m     11\u001b[0m \u001b[38;5;28;01mdef\u001b[39;00m\u001b[38;5;250m \u001b[39m\u001b[38;5;21mstripws\u001b[39m(s):\n\u001b[0;32m---> 12\u001b[0m     \u001b[38;5;28;01mreturn\u001b[39;00m \u001b[38;5;124m'\u001b[39m\u001b[38;5;124m'\u001b[39m\u001b[38;5;241m.\u001b[39mjoin(c \u001b[38;5;28;01mfor\u001b[39;00m c \u001b[38;5;129;01min\u001b[39;00m s \u001b[38;5;28;01mif\u001b[39;00m \u001b[43mc\u001b[49m\u001b[43m \u001b[49m\u001b[38;5;129;43;01mnot\u001b[39;49;00m\u001b[43m \u001b[49m\u001b[38;5;129;43;01min\u001b[39;49;00m\u001b[43m \u001b[49m\u001b[43mstring\u001b[49m\u001b[38;5;241;43m.\u001b[39;49m\u001b[43mwhitespace\u001b[49m)\n",
      "\u001b[0;31mTypeError\u001b[0m: 'in <string>' requires string as left operand, not Array"
     ]
    }
   ],
   "source": [
    "import numpy as np\n",
    "from pos_to_pdb import *  #This would allow you to export coordinates if you want, later\n",
    "import emlib\n",
    "import py_emlib\n"
   ]
  },
  {
   "cell_type": "markdown",
   "metadata": {
    "id": "4yRrbzl15cdO"
   },
   "source": [
    "## Important technical note: Unit masses, etc.\n",
    "\n",
    "Note that all of the following code will assume unit atomic masses, such that forces and accelerations are equal -- that is, instead of $F=ma$ we write $F=a$ assuming that $m=1$. We also drop most constants. This is a relatively common trick in physics when you are interested only in seeing how the basic equations work, and not in quantitative comparison with experimental numbers. It can be called using \"dimensionless units\". "
   ]
  },
  {
   "cell_type": "markdown",
   "metadata": {
    "id": "iLqveN7Y5cdO"
   },
   "source": [
    "## Then we define the LineSearch function:"
   ]
  },
  {
   "cell_type": "markdown",
   "metadata": {
    "id": "b3XLJo4h5cdO"
   },
   "source": [
    "Here is the `LineSearch` function which is provided for you. Read the prototype (definition) and documentation to understand what it needs and what it will do (note that you do NOT need to read all the code):"
   ]
  },
  {
   "cell_type": "code",
   "execution_count": 2,
   "metadata": {},
   "outputs": [
    {
     "name": "stdout",
     "output_type": "stream",
     "text": [
      "Python Vector Energies:\n",
      "0.06291708724735073\n"
     ]
    }
   ],
   "source": [
    "# Input parameters\n",
    "N = 7\n",
    "density = 0.001\n",
    "dx = 0.001\n",
    "L = (N / density) ** (1 / 3)\n",
    "\n",
    "# Set a fixed random seed for reproducibility\n",
    "np.random.seed(42)\n",
    "Pos = np.random.uniform(0, L, size=(N, 3))\n",
    "\n",
    "# Call the Python function\n",
    "Forces_python = py_emlib.calc_energy(Pos)\n",
    "\n",
    "# Print Python results\n",
    "print(\"Python Vector Energies:\")\n",
    "print(Forces_python)\n",
    "\n",
    "\n",
    "\n"
   ]
  },
  {
   "cell_type": "code",
   "execution_count": 3,
   "metadata": {},
   "outputs": [
    {
     "name": "stdout",
     "output_type": "stream",
     "text": [
      "(0.06291708317990938, array([[-4.25420622e-04, -1.00374692e-03, -7.79474282e-04],\n",
      "       [-1.16635179e-04, -3.87934610e-05, -1.02895258e-04],\n",
      "       [-2.64437363e-05, -8.98015611e-04, -6.14650708e-04],\n",
      "       [-7.41643155e-04, -2.02109336e-05, -1.01591638e-03],\n",
      "       [-1.38242186e-03, -3.44998106e-04, -2.45649112e-04],\n",
      "       [ 8.15910082e-05, -3.31386713e-04, -4.53753233e-04],\n",
      "       [-7.21239126e-04, -2.91656072e-04, -7.37042385e-04]]))\n"
     ]
    }
   ],
   "source": [
    "#print(py_emlib.calc_energy(Pos + NormDir * dx))\n",
    "print(emlib.calcenergyforces(Pos))\n",
    "#print(py_emlib.calc_energy_forces(Pos))\n",
    "#Dists = [0., dx]\n",
    "#PEs = [py_emlib.calc_energy(Pos + NormDir * x) for x in Dists]\n",
    "#print(PEs)"
   ]
  },
  {
   "cell_type": "code",
   "execution_count": 4,
   "metadata": {
    "id": "Cz_zeUNd5cdP"
   },
   "outputs": [],
   "source": [
    "def LineSearch(Pos, Dir, dx, EFracTol, Accel = 1.5, MaxInc = 10.,\n",
    "               MaxIter = 10000):\n",
    "    \"\"\"Performs a line search along direction Dir.\n",
    "    Input:\n",
    "       Pos: starting positions, (N,3) array\n",
    "       Dir: (N,3) array of gradient direction\n",
    "       dx: initial step amount, a float\n",
    "       EFracTol: fractional energy tolerance\n",
    "       Accel: acceleration factor\n",
    "       MaxInc: the maximum increase in energy for bracketing\n",
    "       MaxIter: maximum number of iteration steps\n",
    "Output:\n",
    "       PEnergy: value of potential energy at minimum along Dir\n",
    "       PosMin: minimum energy (N,3) position array along Dir\n",
    "\"\"\"\n",
    "    #start the iteration counter\n",
    "    Iter = 0\n",
    "\n",
    "    #find the normalized direction\n",
    "    NormDir = Dir / np.sqrt(np.sum(Dir * Dir))\n",
    "\n",
    "    #take the first two steps and compute energies\n",
    "    Dists = [0., dx]\n",
    "    PEs = [emlib.calcenergy(Pos + NormDir * x) for x in Dists]\n",
    "    #print('PEs', PEs)\n",
    "    #if the second point is not downhill in energy, back\n",
    "    #off and take a shorter step until we find one\n",
    "    while PEs[1] > PEs[0]:\n",
    "        Iter += 1\n",
    "        dx = dx * 0.5\n",
    "        Dists[1] = dx\n",
    "        PEs[1] = emlib.calcenergy(Pos + NormDir * dx)\n",
    "        #print('second point is not downhill in energy')\n",
    "        #print('PES 2nd point: ', PEs)      \n",
    "\n",
    "    #find a third point\n",
    "    Dists.append( 2. * dx )\n",
    "    PEs.append( emlib.calcenergy(Pos + NormDir * 2. * dx) )\n",
    "    #print('found a 3rd point PEs:', PEs)\n",
    "    #keep stepping forward until the third point is higher\n",
    "    #in energy; then we have bracketed a minimum\n",
    "    while PEs[2] < PEs[1]:\n",
    "        Iter += 1\n",
    "\n",
    "        #find a fourth point and evaluate energy\n",
    "        Dists.append( Dists[-1] + dx )\n",
    "        PEs.append( emlib.calcenergy(Pos + NormDir * Dists[-1]) )\n",
    "        print('4th point in while loop', PEs)\n",
    "        #check if we increased too much in energy; if so, back off\n",
    "        if (PEs[3] - PEs[0]) > MaxInc * (PEs[0] - PEs[2]):\n",
    "            PEs = PEs[:3]\n",
    "            Dists = Dists[:3]\n",
    "            dx = dx * 0.5\n",
    "        else:\n",
    "            #shift all of the points over\n",
    "            PEs = PEs[-3:]\n",
    "            Dists = Dists[-3:]\n",
    "            dx = dx * Accel    \n",
    "        print('End while PEs in while loop', PEs)\n",
    "    #we've bracketed a minimum; now we want to find it to high\n",
    "    #accuracy\n",
    "    OldPE3 = 1.e300\n",
    "    while True:\n",
    "        Iter += 1\n",
    "        if Iter > MaxIter:\n",
    "            print(\"Warning: maximum number of iterations reached in line search.\")\n",
    "            break\n",
    "\n",
    "        #store distances for ease of code-reading\n",
    "        d0, d1, d2 = Dists\n",
    "        PE0, PE1, PE2 = PEs\n",
    "\n",
    "        #use a parobolic approximation to estimate the location\n",
    "        #of the minimum\n",
    "        d10 = d0 - d1\n",
    "        d12 = d2 - d1\n",
    "        Num = d12*d12*(PE0-PE1) - d10*d10*(PE2-PE1)\n",
    "        Dem = d12*(PE0-PE1) - d10*(PE2-PE1)\n",
    "        if Dem == 0:\n",
    "            #parabolic extrapolation won't work; set new dist = 0\n",
    "            d3 = 0\n",
    "        else:\n",
    "            #location of parabolic minimum\n",
    "            d3 = d1 + 0.5 * Num / Dem\n",
    "\n",
    "        #compute the new potential energy\n",
    "        PE3 = emlib.calcenergy(Pos + NormDir * d3)\n",
    "\n",
    "        #sometimes the parabolic approximation can fail;\n",
    "        #check if d3 is out of range < d0 or > d2 or the new energy is higher\n",
    "        if d3 < d0 or d3 > d2 or PE3 > PE0 or PE3 > PE1 or PE3 > PE2:\n",
    "            #instead, just compute the new distance by bisecting two\n",
    "            #of the existing points along the line search\n",
    "            if abs(d2 - d1) > abs(d0 - d1):\n",
    "                d3 = 0.5 * (d2 + d1)\n",
    "            else:\n",
    "                d3 = 0.5 * (d0 + d1)\n",
    "            PE3 = emlib.calcenergy(Pos + NormDir * d3)\n",
    "\n",
    "        #decide which three points to keep; we want to keep\n",
    "        #the three that are closest to the minimum\n",
    "        if d3 < d1:\n",
    "            if PE3 < PE1:\n",
    "                #get rid of point 2\n",
    "                Dists, PEs = [d0, d3, d1], [PE0, PE3, PE1]\n",
    "            else:\n",
    "                #get rid of point 0\n",
    "                Dists, PEs = [d3, d1, d2], [PE3, PE1, PE2]\n",
    "        else:\n",
    "            if PE3 < PE1:\n",
    "                #get rid of point 0\n",
    "                Dists, PEs = [d1, d3, d2], [PE1, PE3, PE2]\n",
    "            else:\n",
    "                #get rid of point 2\n",
    "                Dists, PEs = [d0, d1, d3], [PE0, PE1, PE3]\n",
    "\n",
    "        #check how much we've changed\n",
    "        if abs(OldPE3 - PE3) < EFracTol * abs(PE3):\n",
    "            #the fractional change is less than the tolerance,\n",
    "            #so we are done and can exit the loop\n",
    "            break\n",
    "        OldPE3 = PE3\n",
    "\n",
    "    #return the position array at the minimum (point 1)\n",
    "    PosMin = Pos + NormDir * Dists[1]\n",
    "    PEMin = PEs[1]\n",
    "\n",
    "    return PEMin, PosMin"
   ]
  },
  {
   "cell_type": "code",
   "execution_count": 5,
   "metadata": {},
   "outputs": [],
   "source": [
    "# This will use the Python version of emlib \n",
    "def LineSearch(Pos, Dir, dx, EFracTol, Accel = 1.5, MaxInc = 10.,\n",
    "               MaxIter = 10000):\n",
    "    \"\"\"Performs a line search along direction Dir.\n",
    "    Input:\n",
    "       Pos: starting positions, (N,3) array\n",
    "       Dir: (N,3) array of gradient direction\n",
    "       dx: initial step amount, a float\n",
    "       EFracTol: fractional energy tolerance\n",
    "       Accel: acceleration factor\n",
    "       MaxInc: the maximum increase in energy for bracketing\n",
    "       MaxIter: maximum number of iteration steps\n",
    "Output:\n",
    "       PEnergy: value of potential energy at minimum along Dir\n",
    "       PosMin: minimum energy (N,3) position array along Dir\n",
    "\"\"\"\n",
    "    nprocs=11\n",
    "    #print('line search')\n",
    "    \n",
    "    #start the iteration counter\n",
    "    Iter = 0\n",
    "\n",
    "    #find the normalized direction\n",
    "    NormDir = Dir / np.sqrt(np.sum(Dir * Dir))\n",
    "\n",
    "    #take the first two steps and compute energies\n",
    "    Dists = [0., dx]\n",
    "    PEs = [py_emlib.calc_energy(Pos + NormDir * x) for x in Dists]\n",
    "\n",
    "    #print('PEs', PEs)\n",
    "    #if the second point is not downhill in energy, back\n",
    "    #off and take a shorter step until we find one\n",
    "    while PEs[1] > PEs[0]:\n",
    "        Iter += 1\n",
    "        dx = dx * 0.5\n",
    "        Dists[1] = dx\n",
    "        PEs[1] = py_emlib.calc_energy(Pos + NormDir * dx)\n",
    "        #print('second point is not downhill in energy')\n",
    "        #print('PES 2nd point: ', PEs)\n",
    "    #find a third point\n",
    "    Dists.append( 2. * dx )\n",
    "    PEs.append( py_emlib.calc_energy(Pos + NormDir * 2. * dx) )\n",
    "    #print('found a 3rd point PEs:', PEs)\n",
    "    #keep stepping forward until the third point is higher\n",
    "    #in energy; then we have bracketed a minimum\n",
    "    while PEs[2] < PEs[1]:\n",
    "        #print('PEs while loop')\n",
    "        Iter += 1\n",
    "\n",
    "        #find a fourth point and evaluate energy\n",
    "        Dists.append( Dists[-1] + dx )\n",
    "        PEs.append( py_emlib.calc_energy(Pos + NormDir * Dists[-1]) )\n",
    "        #print('4th point in while loop', PEs)\n",
    "        #check if we increased too much in energy; if so, back off\n",
    "        if (PEs[3] - PEs[0]) > MaxInc * (PEs[0] - PEs[2]):\n",
    "            PEs = PEs[:3]\n",
    "            Dists = Dists[:3]\n",
    "            dx = dx * 0.5\n",
    "        else:\n",
    "            #shift all of the points over\n",
    "            PEs = PEs[-3:]\n",
    "            Dists = Dists[-3:]\n",
    "            dx = dx * Accel    \n",
    "       # print('End while PEs in while loop', PEs)\n",
    "    #print('PEs were updated',PEs )            \n",
    "    #we've bracketed a minimum; now we want to find it to high\n",
    "    #accuracy\n",
    "    OldPE3 = 1.e300\n",
    "    while True:\n",
    "        Iter += 1\n",
    "        if Iter > MaxIter:\n",
    "            print(\"Warning: maximum number of iterations reached in line search.\")\n",
    "            break\n",
    "\n",
    "        #store distances for ease of code-reading\n",
    "        d0, d1, d2 = Dists\n",
    "        PE0, PE1, PE2 = PEs\n",
    "\n",
    "        #use a parobolic approximation to estimate the location\n",
    "        #of the minimum\n",
    "        d10 = d0 - d1\n",
    "        d12 = d2 - d1\n",
    "        Num = d12*d12*(PE0-PE1) - d10*d10*(PE2-PE1)\n",
    "        Dem = d12*(PE0-PE1) - d10*(PE2-PE1)\n",
    "        if Dem == 0:\n",
    "            #parabolic extrapolation won't work; set new dist = 0\n",
    "            d3 = 0\n",
    "        else:\n",
    "            #location of parabolic minimum\n",
    "            d3 = d1 + 0.5 * Num / Dem\n",
    "\n",
    "        #compute the new potential energy\n",
    "        PE3 = py_emlib.calc_energy(Pos + NormDir * d3)\n",
    "\n",
    "        #sometimes the parabolic approximation can fail;\n",
    "        #check if d3 is out of range < d0 or > d2 or the new energy is higher\n",
    "        if d3 < d0 or d3 > d2 or PE3 > PE0 or PE3 > PE1 or PE3 > PE2:\n",
    "            #instead, just compute the new distance by bisecting two\n",
    "            #of the existing points along the line search\n",
    "            if abs(d2 - d1) > abs(d0 - d1):\n",
    "                d3 = 0.5 * (d2 + d1)\n",
    "            else:\n",
    "                d3 = 0.5 * (d0 + d1)\n",
    "            PE3 = py_emlib.calc_energy(Pos + NormDir * d3)\n",
    "\n",
    "        #decide which three points to keep; we want to keep\n",
    "        #the three that are closest to the minimum\n",
    "        if d3 < d1:\n",
    "            if PE3 < PE1:\n",
    "                #get rid of point 2\n",
    "                Dists, PEs = [d0, d3, d1], [PE0, PE3, PE1]\n",
    "            else:\n",
    "                #get rid of point 0\n",
    "                Dists, PEs = [d3, d1, d2], [PE3, PE1, PE2]\n",
    "        else:\n",
    "            if PE3 < PE1:\n",
    "                #get rid of point 0\n",
    "                Dists, PEs = [d1, d3, d2], [PE1, PE3, PE2]\n",
    "            else:\n",
    "                #get rid of point 2\n",
    "                Dists, PEs = [d0, d1, d3], [PE0, PE1, PE3]\n",
    "\n",
    "        #check how much we've changed\n",
    "        if abs(OldPE3 - PE3) < EFracTol * abs(PE3):\n",
    "            #the fractional change is less than the tolerance,\n",
    "            #so we are done and can exit the loop\n",
    "            break\n",
    "        OldPE3 = PE3\n",
    "\n",
    "    #return the position array at the minimum (point 1)\n",
    "    PosMin = Pos + NormDir * Dists[1]\n",
    "    PEMin = PEs[1]\n",
    "\n",
    "    return PEMin, PosMin"
   ]
  },
  {
   "cell_type": "markdown",
   "metadata": {
    "id": "73o2EjbG5cdP"
   },
   "source": [
    "## Step 2: Write a function to assign random initial positions to your atoms\n",
    "\n",
    "We need a function that can randomly place N atoms in a box with sides of length L. Write a function based on a tool from the numpy 'random' module to do this. Some hints are in order:\n",
    "\n",
    "* NumPy contains a ‘random’ module which is good for obtaining random numbers and/or arrays. For example, if you have imported numpy as np, then np.random.random(shape) returns a random array with the specified shape (i.e. ‘np.random.random(3)’ would be a 3x1 array) with elements randomly selected between 0 to 1. Try this out: "
   ]
  },
  {
   "cell_type": "code",
   "execution_count": 6,
   "metadata": {
    "id": "FoKqhioL5cdQ",
    "outputId": "132969c7-2e96-439f-fe88-9ca13c98281d"
   },
   "outputs": [
    {
     "name": "stdout",
     "output_type": "stream",
     "text": [
      "a=\n",
      " [0.13949386 0.29214465 0.36636184]\n",
      "b=\n",
      " [[0.45606998 0.78517596 0.19967378]\n",
      " [0.51423444 0.59241457 0.04645041]]\n"
     ]
    }
   ],
   "source": [
    "a = np.random.random(3)\n",
    "print(\"a=\\n\",a)\n",
    "b = np.random.random((2,3))\n",
    "print(\"b=\\n\",b)"
   ]
  },
  {
   "cell_type": "markdown",
   "metadata": {
    "id": "_89OVEUB5cdQ"
   },
   "source": [
    "* Note that in your function, you want the numbers to run from 0 to L. You might try out what happens if you multiply 'a' and 'b' in the code above by some number.\n",
    "\n",
    "Now, write your function. I've written the doc string and some comments for you, but you have to fill in its inner workings:"
   ]
  },
  {
   "cell_type": "code",
   "execution_count": 7,
   "metadata": {
    "collapsed": true,
    "id": "EHCUgSST5cdR"
   },
   "outputs": [],
   "source": [
    "def InitPositions(N, L):\n",
    "    \"\"\"Returns an array of initial positions of each atom,\n",
    "placed randomly within a box of dimensions L.\n",
    "Parameters\n",
    "----------\n",
    "    N:int \n",
    "        Number of atoms\n",
    "    L: float\n",
    "        box width\n",
    "Returns\n",
    "------\n",
    "    Pos: np.array\n",
    "        (N,3) array of positions\n",
    "\"\"\"\n",
    "    #### WRITE YOUR CODE HERE ####\n",
    "    ## In my code, I can accomplish this function in 1 line \n",
    "    ## using a numpy function.\n",
    "    ## Yours can be longer if you want. It's more important that it be right than that it be short.\n",
    "    Pos = np.random.uniform(0,L,size=(N,3))\n",
    "    return Pos\n",
    "\n"
   ]
  },
  {
   "cell_type": "code",
   "execution_count": 8,
   "metadata": {},
   "outputs": [
    {
     "data": {
      "text/plain": [
       "array([[1.2150897 , 0.34104825, 0.13010319],\n",
       "       [1.89777107, 1.93126407, 1.6167947 ],\n",
       "       [0.60922754, 0.19534423, 1.36846605]])"
      ]
     },
     "execution_count": 8,
     "metadata": {},
     "output_type": "execute_result"
    }
   ],
   "source": [
    "InitPositions(3,2)"
   ]
  },
  {
   "cell_type": "markdown",
   "metadata": {
    "id": "NehKQPx85cdR"
   },
   "source": [
    "## Step 3: Write the Conjugate Gradient function described below\n",
    "\n",
    "Fill in code for the ConjugateGradient function below based on the discussion in class and below, supplemented by your reading of Leach's book (and other online sources if needed). Some additional guidance and hints are warranted first.\n",
    "\n",
    "### Hints for ConjugateGradient:\n",
    "* As discussed/demonstrated above, a LineSearch function is already provided for you here\n",
    "* You will need to remember that our force and position arrays give the force/position of all of the atoms in the system (x, y, and z components) as [introduced previously](https://github.com/MobleyLab/drug-computing/blob/master/uci-pharmsci/lectures/energy_minimization/energy_minimization.ipynb). \n",
    "* Keep careful track of which quantities you expect to be vectors/arrays versus scalars. You may wish to check that quantities are what you expect they are.\n",
    "* You are going to want to keep doing line searches until the energy stops changing. Write a loop to do this, and store your evaluated energies as you go.\n",
    "* A fortran library, `emlib`, is provided for you to calculate energies and forces. You should be able to ask for 'help(emlib)' for info on usage. You can also look directly at the Fortran code if you would like, though this may be less helpful.\n",
    "* You can get the potential energy and forces using the provided library using functions from emlib. For example, if `Pos` is an array of positions: \n",
    "\n",
    "   `PEnergy, Forces = emlib.calcenergyforces(Pos)`\n",
    "   \n",
    "   `Forces = emlib.calcforces( Pos )`\n",
    "* Conjugate gradient does not specify an initial direction. Your initial search should be in the direction of the force. \n",
    "* After the initial line search, subsequent line search directions $i$ should be found using this expression for $v_i$, the direction matrix:\n",
    "\n",
    "   \\begin{equation}\n",
    "   \\mathbf{v}_i^N = \\mathbf{f}_i^N + \\gamma_i \\mathbf{v}_{i-1}^N\n",
    "   \\end{equation}\n",
    "   \n",
    "   where\n",
    "   \n",
    "   \\begin{equation}\n",
    "   \\gamma_i = \\frac{ (\\mathbf{f}_i^N-\\mathbf{f}_{i-1}^N) \\mathbf{f}_i^N}{\\mathbf{f}_{i-1}^N \\mathbf{f}_{i-1}^N}\n",
    "   \\end{equation}\n",
    "   \n",
    "   Note that here, $\\mathbf{f}_i^N$ denotes the force on the particles at step $i$ (and hence it has 3N dimensions - $x$, $y$, and $z$ for each particle) and $\\mathbf{f}_{i-1}^N$ is the force at the last ($i-1$) step, [as discussed previously](https://github.com/MobleyLab/drug-computing/blob/master/uci-pharmsci/lectures/energy_minimization/energy_minimization.ipynb). Note that the forces are a collection of vectors, one vector for the force on each particle. $\\gamma_i$ should be just a number (scalar). Hint: Note that if you have a force array consisting of a set of vectors, the product you want inside the equation for $\\gamma_i$ should be an element-by-element multiplication, not a dot or inner product.  **Be sure to see the helpful tips about how to calculate this which were given in the energy minimization lecture**!\n",
    "   \n",
    "* You want to end up at the point, in your code, where you can obtain the new direction by calculating something like `Dir = newForces + gamma * Dir`\n",
    "* Continue successive line searches in your CG minimization until the fractional change in energy on subsequent searches is less than the tolerance. That is, you'll set it up to use an `EFracTolCG` variable and continue until this criteria is met (where $U_i$ is the potential energy at the present step): \n",
    "\\begin{equation}\n",
    "\\left|U_i-U_{i-1}\\right| < EFracTolCG \\times \\left| U_i\\right|\n",
    "\\end{equation}\n",
    "\n",
    "* To debug your code, you will probably want to initially use `print` statements in the minimization routine to monitor the energy as a function of step to make sure it's doing the right thing!\n",
    "\n",
    "\n",
    "\n",
    "### Now actually write ConjugateGradient:"
   ]
  },
  {
   "cell_type": "code",
   "execution_count": 9,
   "metadata": {},
   "outputs": [],
   "source": [
    "def ConjugateGradient(Pos, dx, EFracTolLS, EFracTolCG):\n",
    "    \"\"\"Performs a conjugate gradient search.\n",
    "\"\"\"\n",
    "    #### WRITE YOUR CODE HERE ####\n",
    "    ## In my code, I can accomplish this function in 10 lines ###\n",
    "    #A return statement you may/will use to finish things off    \n",
    "    \n",
    "    # Calculate the initial Forces \n",
    "    intial_energy, Forces = emlib.calcenergyforces(Pos)\n",
    "    Dir = Forces\n",
    "    previous_energy = intial_energy \n",
    "    print('initial energy F90: ', intial_energy)\n",
    "    count = 0 \n",
    "    while True:\n",
    "        # Perform line search along the current gradient \n",
    "        PEnergy, Pos = LineSearch(Pos, Dir, dx, EFracTolLS)\n",
    "        print('new energy:', PEnergy)\n",
    "        # check if energies have converged?\n",
    "        if abs(previous_energy - PEnergy) < EFracTolCG * abs(PEnergy):\n",
    "            break\n",
    "        count +=1\n",
    "        # If not converged then calculate the new forces and gamma\n",
    "        new_forces = emlib.calcforces(Pos)\n",
    "        gamma = np.sum((new_forces - Forces)*new_forces)/np.sum(Forces*Forces)\n",
    "        \n",
    "        # Update the new direction vector \n",
    "        Dir = new_forces + gamma * Dir\n",
    "        \n",
    "        # Update parameters for next iteration\n",
    "        Forces = new_forces\n",
    "        previous_energy = PEnergy\n",
    "        \n",
    "        \n",
    "    return PEnergy, Pos"
   ]
  },
  {
   "cell_type": "code",
   "execution_count": 10,
   "metadata": {},
   "outputs": [],
   "source": [
    "# use calculate force from python version \n",
    "def ConjugateGradient(Pos, dx, EFracTolLS, EFracTolCG):\n",
    "    \"\"\"Performs a conjugate gradient search.\n",
    "\"\"\"\n",
    "    #### WRITE YOUR CODE HERE ####\n",
    "    ## In my code, I can accomplish this function in 10 lines ###\n",
    "    #A return statement you may/will use to finish things off    \n",
    "    nprocs=11\n",
    "    # Calculate the initial Forces \n",
    "    intial_energy, Forces = py_emlib.calc_energy_forces(Pos)\n",
    "    #print('initial energy python: ', intial_energy)\n",
    "    Dir = Forces\n",
    "    previous_energy = intial_energy \n",
    "    count = 0 \n",
    "    while True:\n",
    "        # Perform line search along the current gradient \n",
    "        PEnergy, Pos = LineSearch(Pos, Dir, dx, EFracTolLS)\n",
    "        # print('new energy PEnergy:', PEnergy)\n",
    "        # print('new Pos:', Pos)\n",
    "        # print('previous energy', previous_energy)\n",
    "        # print('EFracTolCG', EFracTolCG)\n",
    "        # check if energies have converged?\n",
    "        if abs(previous_energy - PEnergy) < EFracTolCG * abs(PEnergy):\n",
    "            break\n",
    "        count +=1\n",
    "        # If not converged then calculate the new forces and gamma\n",
    "        new_forces = py_emlib.calc_forces(Pos)\n",
    "        gamma = np.sum((new_forces - Forces)*new_forces)/np.sum(Forces*Forces)\n",
    "        \n",
    "        # Update the new direction vector \n",
    "        Dir = new_forces + gamma * Dir\n",
    "        \n",
    "        # Update parameters for next iteration\n",
    "        Forces = new_forces\n",
    "        previous_energy = PEnergy\n",
    "        \n",
    "        \n",
    "    return PEnergy, Pos"
   ]
  },
  {
   "cell_type": "markdown",
   "metadata": {
    "id": "u7vhgY4_5cdS"
   },
   "source": [
    "## Step 4: Energy minimize a variety of clusters, storing energies\n",
    "\n",
    "Write code to use the functions you wrote above, plus the emlib module, to energy minimize clusters of various sizes. Loop over clusters from size N=2 to (and including) N=25. For each particle number, do the following:\n",
    "* Perform K (to be specified below in the section on graphing) minimizations, each starting from a different random configuration of particles \n",
    "* Store the K energies to a list \n",
    "* Display the minimum, average, and standard deviation of the minimized energies for the trials. Note standard deviations can be calculated with the numpy.std function (`np.std()`)\n",
    "* After doing this, you'll be tasked with making some plots. \n",
    "\n",
    "Use the following settings:\n",
    "* `dx = 0.001`\n",
    "* `EFracTolCG = 1.0e-10`\n",
    "* `EFracTolLS = 1.0e-8`\n",
    "* And place the particles with L chosen such that the average number density of particles ($N/V$, where $V=L^3$) is $0.001$. That is, for every $N$, solve for $L$ such that $N/L^3 = 0.001$. \n",
    "\n",
    "These are relatively typical settings for this kind of a system. \n",
    "\n",
    "**I suggest you do this first for just one N and K to make sure it works**. Then set up a loop over N and perhaps (if you like) a loop over K as well.  Reserve the large K values until you are absolutely certain it’s working. Note that if the computational time becomes prohibitive (i.e. if it runs more than overnight, or your computer is having difficulties handling the lode) we can migrate your simulations to GreenPlanet. \n",
    "\n",
    "You can easily add visualization of a trajectory by adding, within your ConjugateGradient function’s central loop, a call to the PosToPDB function of the pos_to_pdb module. Assuming you’ve done ‘from pos_to_pdb import *’ you’d add something like: \n",
    "\n",
    "`PosToPDB( Pos, L, ‘mytrajectory.pdb’)`\n",
    "\n",
    "within the loop inside your ConjugateGradient minimizer. This will write out each step of the minimization as a separate frame in a pdb file, which you can download with scp and view in PyMol to see exactly what’s going on. \n",
    "Note that visualization (really, the file I/O and coordinate conversions) will slow things considerably, so I suggest you only do this in one specific case to check out what’s going on, or to troubleshoot if things don't appear to be working. It should also be possible to add interactive visualization via `nglview` here, though I've not done that for you.\n",
    "\n",
    "* Hint: **You MAY want to use Python's pickle module to save out your data at the end of your calculations, since the next step involves plotting your data and you may want to easily be able to read it back in**. At the very least - whether you save it to disk or not - you'll want to store it (specifically, the minimum and average energies at each N) to variables for later reuse. If you had the variable `energies` containing all of the energies obtained at K = 10000 you might dump this using:"
   ]
  },
  {
   "cell_type": "code",
   "execution_count": 11,
   "metadata": {
    "collapsed": true,
    "id": "A5ZnHFNO5cdS"
   },
   "outputs": [],
   "source": [
    "# import pickle\n",
    "# file = open('energies.pickle', \"w\")\n",
    "# pickle.dump( energies, file) \n",
    "# file.close()\n",
    "# #To load again, use:\n",
    "# #file = open(\"energies.pickle\", \"r\") \n",
    "# #energies = pickle.load(file)\n",
    "# #file.close()"
   ]
  },
  {
   "cell_type": "markdown",
   "metadata": {
    "id": "vH2XT0EN5cdS"
   },
   "source": [
    "### Write your code here:\n"
   ]
  },
  {
   "cell_type": "code",
   "execution_count": 12,
   "metadata": {},
   "outputs": [],
   "source": [
    "def minimize_clusters(num_iterations=1, N_min=2, N_max=25, density=0.001, dx=0.001, EFracTolCG=1.0e-10, EFracTolLS=1.0e-8):\n",
    "    \"\"\"\n",
    "    Perform energy minimization on clusters of various sizes and store energies.\n",
    "    \"\"\"\n",
    "    results = {\n",
    "        'N': [],\n",
    "        'min_energies': [],\n",
    "        'avg_energies': [],\n",
    "        'std_energies': []\n",
    "    }\n",
    "    \n",
    "    for N in range(N_min, N_max + 1):\n",
    "        print(f\"Minimizing clusters for N={N}...\")\n",
    "        # Calculate L such that density = N / L^3\n",
    "        L = (N / density) ** (1/3)\n",
    "        \n",
    "        # Store energies \n",
    "        energies = []\n",
    "        # Perform num_iterations of minimzations\n",
    "        for _ in range(num_iterations):\n",
    "            # Generate a random initial configuration of particles within a box of size L\n",
    "            Pos = np.random.uniform(0, L, size=(N, 3))\n",
    "            # Perform energy minimization\n",
    "            PEnergy, _ = ConjugateGradient(Pos, dx, EFracTolLS, EFracTolCG)\n",
    "            energies.append(PEnergy)\n",
    "        \n",
    "        # Analyze and store results\n",
    "        results['N'].append(N)\n",
    "        results['min_energies'].append(np.min(energies))\n",
    "        results['avg_energies'].append(np.mean(energies))\n",
    "        results['std_energies'].append(np.std(energies))\n",
    "        \n",
    "\n",
    "    \n",
    "    # # Save results to a file for later reuse\n",
    "    # with open('cluster_minimization_results.pkl', 'wb') as f:\n",
    "    #     pickle.dump(results, f)\n",
    "    \n",
    "    return results\n"
   ]
  },
  {
   "cell_type": "markdown",
   "metadata": {
    "id": "pJE5QAIZ5cdT"
   },
   "source": [
    "## Step 5: Graph your findings"
   ]
  },
  {
   "cell_type": "markdown",
   "metadata": {
    "id": "q5epq_ia5cdT"
   },
   "source": [
    "Plot the minimum and average energies as a function of N for each of K=100, 1000, and 10000. The last case may be fairly time consuming (i.e. several hours) and should be done without output of pdb files for visualization (since this can slow it down).\n",
    "\n",
    "Use matplotlib/PyLab to make these plots.\n",
    "\n",
    "**Hint: If your minimizations are proceeding extremely slowly, it may mean you have an error in calculation of gamma**, such that even K=100 or K=10 could take a very long time. Ensure you have implemented the equation for gamma correctly. Even with a correct gamma value, this will take considerable time for the larger N values."
   ]
  },
  {
   "cell_type": "code",
   "execution_count": 13,
   "metadata": {},
   "outputs": [
    {
     "name": "stdout",
     "output_type": "stream",
     "text": [
      "Minimizing clusters for N=2...\n"
     ]
    },
    {
     "ename": "TypingError",
     "evalue": "Failed in nopython mode pipeline (step: nopython frontend)\nNo implementation of function Function(<built-in function array>) found for signature:\n \n >>> array(array(float64, 2d, C), dtype=class(float64))\n \nThere are 2 candidate implementations:\n  - Of which 2 did not match due to:\n  Overload in function 'impl_np_array': File: numba/np/arrayobj.py: Line 5546.\n    With argument(s): '(array(float64, 2d, C), dtype=class(float64))':\n   Rejected as the implementation raised a specific error:\n     TypingError: Failed in nopython mode pipeline (step: nopython frontend)\n   No implementation of function Function(<intrinsic np_array>) found for signature:\n    \n    >>> np_array(array(float64, 2d, C), class(float64))\n    \n   There are 2 candidate implementations:\n         - Of which 2 did not match due to:\n         Intrinsic in function 'np_array': File: numba/np/arrayobj.py: Line 5520.\n           With argument(s): '(array(float64, 2d, C), class(float64))':\n          Rejected as the implementation raised a specific error:\n            TypingError: array(float64, 2d, C) not allowed in a homogeneous sequence\n     raised from /opt/miniconda3/envs/drug_comp_env/lib/python3.11/site-packages/numba/core/typing/npydecl.py:494\n   \n   During: resolving callee type: Function(<intrinsic np_array>)\n   During: typing of call at /opt/miniconda3/envs/drug_comp_env/lib/python3.11/site-packages/numba/np/arrayobj.py (5557)\n   \n   \n   File \"../../../../../../opt/miniconda3/envs/drug_comp_env/lib/python3.11/site-packages/numba/np/arrayobj.py\", line 5557:\n       def impl(object, dtype=None):\n           return np_array(object, dtype)\n           ^\n   \n   During: Pass nopython_type_inference\n  raised from /opt/miniconda3/envs/drug_comp_env/lib/python3.11/site-packages/numba/core/typeinfer.py:1074\n\nDuring: resolving callee type: Function(<built-in function array>)\nDuring: typing of call at /Users/stevenayoub/drug-computing/uci-pharmsci/assignments/energy_minimization/py_emlib.py (101)\n\n\nFile \"py_emlib.py\", line 101:\ndef calc_energy_forces(Pos):\n    <source elided>\n    \"\"\"\n    Pos = np.array(Pos, dtype=np.float64)\n    ^\n\nDuring: Pass nopython_type_inference",
     "output_type": "error",
     "traceback": [
      "\u001b[0;31m---------------------------------------------------------------------------\u001b[0m",
      "\u001b[0;31mTypingError\u001b[0m                               Traceback (most recent call last)",
      "Cell \u001b[0;32mIn[13], line 2\u001b[0m\n\u001b[1;32m      1\u001b[0m positions \u001b[38;5;241m=\u001b[39m [np\u001b[38;5;241m.\u001b[39mrandom\u001b[38;5;241m.\u001b[39muniform(\u001b[38;5;241m0\u001b[39m, L, size\u001b[38;5;241m=\u001b[39m(N, \u001b[38;5;241m3\u001b[39m)) \u001b[38;5;28;01mfor\u001b[39;00m N \u001b[38;5;129;01min\u001b[39;00m \u001b[38;5;28mrange\u001b[39m(\u001b[38;5;241m1\u001b[39m, \u001b[38;5;241m26\u001b[39m)]\n\u001b[0;32m----> 2\u001b[0m k_10 \u001b[38;5;241m=\u001b[39m \u001b[43mminimize_clusters\u001b[49m\u001b[43m(\u001b[49m\u001b[43mnum_iterations\u001b[49m\u001b[38;5;241;43m=\u001b[39;49m\u001b[38;5;241;43m10\u001b[39;49m\u001b[43m,\u001b[49m\u001b[43m \u001b[49m\u001b[43mN_min\u001b[49m\u001b[38;5;241;43m=\u001b[39;49m\u001b[38;5;241;43m2\u001b[39;49m\u001b[43m,\u001b[49m\u001b[43m \u001b[49m\u001b[43mN_max\u001b[49m\u001b[38;5;241;43m=\u001b[39;49m\u001b[38;5;241;43m25\u001b[39;49m\u001b[43m,\u001b[49m\u001b[43m \u001b[49m\u001b[43mdensity\u001b[49m\u001b[38;5;241;43m=\u001b[39;49m\u001b[38;5;241;43m0.001\u001b[39;49m\u001b[43m,\u001b[49m\u001b[43m \u001b[49m\u001b[43mdx\u001b[49m\u001b[38;5;241;43m=\u001b[39;49m\u001b[38;5;241;43m0.001\u001b[39;49m\u001b[43m,\u001b[49m\u001b[43m \u001b[49m\u001b[43mEFracTolCG\u001b[49m\u001b[38;5;241;43m=\u001b[39;49m\u001b[38;5;241;43m1.0e-10\u001b[39;49m\u001b[43m,\u001b[49m\u001b[43m \u001b[49m\u001b[43mEFracTolLS\u001b[49m\u001b[38;5;241;43m=\u001b[39;49m\u001b[38;5;241;43m1.0e-8\u001b[39;49m\u001b[43m)\u001b[49m \u001b[38;5;66;03m# takes about 32 seconds\u001b[39;00m\n",
      "Cell \u001b[0;32mIn[12], line 24\u001b[0m, in \u001b[0;36mminimize_clusters\u001b[0;34m(num_iterations, N_min, N_max, density, dx, EFracTolCG, EFracTolLS)\u001b[0m\n\u001b[1;32m     22\u001b[0m     Pos \u001b[38;5;241m=\u001b[39m np\u001b[38;5;241m.\u001b[39mrandom\u001b[38;5;241m.\u001b[39muniform(\u001b[38;5;241m0\u001b[39m, L, size\u001b[38;5;241m=\u001b[39m(N, \u001b[38;5;241m3\u001b[39m))\n\u001b[1;32m     23\u001b[0m     \u001b[38;5;66;03m# Perform energy minimization\u001b[39;00m\n\u001b[0;32m---> 24\u001b[0m     PEnergy, _ \u001b[38;5;241m=\u001b[39m \u001b[43mConjugateGradient\u001b[49m\u001b[43m(\u001b[49m\u001b[43mPos\u001b[49m\u001b[43m,\u001b[49m\u001b[43m \u001b[49m\u001b[43mdx\u001b[49m\u001b[43m,\u001b[49m\u001b[43m \u001b[49m\u001b[43mEFracTolLS\u001b[49m\u001b[43m,\u001b[49m\u001b[43m \u001b[49m\u001b[43mEFracTolCG\u001b[49m\u001b[43m)\u001b[49m\n\u001b[1;32m     25\u001b[0m     energies\u001b[38;5;241m.\u001b[39mappend(PEnergy)\n\u001b[1;32m     27\u001b[0m \u001b[38;5;66;03m# Analyze and store results\u001b[39;00m\n",
      "Cell \u001b[0;32mIn[10], line 10\u001b[0m, in \u001b[0;36mConjugateGradient\u001b[0;34m(Pos, dx, EFracTolLS, EFracTolCG)\u001b[0m\n\u001b[1;32m      8\u001b[0m nprocs\u001b[38;5;241m=\u001b[39m\u001b[38;5;241m11\u001b[39m\n\u001b[1;32m      9\u001b[0m \u001b[38;5;66;03m# Calculate the initial Forces \u001b[39;00m\n\u001b[0;32m---> 10\u001b[0m intial_energy, Forces \u001b[38;5;241m=\u001b[39m \u001b[43mpy_emlib\u001b[49m\u001b[38;5;241;43m.\u001b[39;49m\u001b[43mcalc_energy_forces\u001b[49m\u001b[43m(\u001b[49m\u001b[43mPos\u001b[49m\u001b[43m)\u001b[49m\n\u001b[1;32m     11\u001b[0m \u001b[38;5;66;03m#print('initial energy python: ', intial_energy)\u001b[39;00m\n\u001b[1;32m     12\u001b[0m Dir \u001b[38;5;241m=\u001b[39m Forces\n",
      "File \u001b[0;32m/opt/miniconda3/envs/drug_comp_env/lib/python3.11/site-packages/numba/core/dispatcher.py:424\u001b[0m, in \u001b[0;36m_DispatcherBase._compile_for_args\u001b[0;34m(self, *args, **kws)\u001b[0m\n\u001b[1;32m    420\u001b[0m         msg \u001b[38;5;241m=\u001b[39m (\u001b[38;5;124mf\u001b[39m\u001b[38;5;124m\"\u001b[39m\u001b[38;5;132;01m{\u001b[39;00m\u001b[38;5;28mstr\u001b[39m(e)\u001b[38;5;241m.\u001b[39mrstrip()\u001b[38;5;132;01m}\u001b[39;00m\u001b[38;5;124m \u001b[39m\u001b[38;5;130;01m\\n\u001b[39;00m\u001b[38;5;130;01m\\n\u001b[39;00m\u001b[38;5;124mThis error may have been caused \u001b[39m\u001b[38;5;124m\"\u001b[39m\n\u001b[1;32m    421\u001b[0m                \u001b[38;5;124mf\u001b[39m\u001b[38;5;124m\"\u001b[39m\u001b[38;5;124mby the following argument(s):\u001b[39m\u001b[38;5;130;01m\\n\u001b[39;00m\u001b[38;5;132;01m{\u001b[39;00margs_str\u001b[38;5;132;01m}\u001b[39;00m\u001b[38;5;130;01m\\n\u001b[39;00m\u001b[38;5;124m\"\u001b[39m)\n\u001b[1;32m    422\u001b[0m         e\u001b[38;5;241m.\u001b[39mpatch_message(msg)\n\u001b[0;32m--> 424\u001b[0m     \u001b[43merror_rewrite\u001b[49m\u001b[43m(\u001b[49m\u001b[43me\u001b[49m\u001b[43m,\u001b[49m\u001b[43m \u001b[49m\u001b[38;5;124;43m'\u001b[39;49m\u001b[38;5;124;43mtyping\u001b[39;49m\u001b[38;5;124;43m'\u001b[39;49m\u001b[43m)\u001b[49m\n\u001b[1;32m    425\u001b[0m \u001b[38;5;28;01mexcept\u001b[39;00m errors\u001b[38;5;241m.\u001b[39mUnsupportedError \u001b[38;5;28;01mas\u001b[39;00m e:\n\u001b[1;32m    426\u001b[0m     \u001b[38;5;66;03m# Something unsupported is present in the user code, add help info\u001b[39;00m\n\u001b[1;32m    427\u001b[0m     error_rewrite(e, \u001b[38;5;124m'\u001b[39m\u001b[38;5;124munsupported_error\u001b[39m\u001b[38;5;124m'\u001b[39m)\n",
      "File \u001b[0;32m/opt/miniconda3/envs/drug_comp_env/lib/python3.11/site-packages/numba/core/dispatcher.py:365\u001b[0m, in \u001b[0;36m_DispatcherBase._compile_for_args.<locals>.error_rewrite\u001b[0;34m(e, issue_type)\u001b[0m\n\u001b[1;32m    363\u001b[0m     \u001b[38;5;28;01mraise\u001b[39;00m e\n\u001b[1;32m    364\u001b[0m \u001b[38;5;28;01melse\u001b[39;00m:\n\u001b[0;32m--> 365\u001b[0m     \u001b[38;5;28;01mraise\u001b[39;00m e\u001b[38;5;241m.\u001b[39mwith_traceback(\u001b[38;5;28;01mNone\u001b[39;00m)\n",
      "\u001b[0;31mTypingError\u001b[0m: Failed in nopython mode pipeline (step: nopython frontend)\nNo implementation of function Function(<built-in function array>) found for signature:\n \n >>> array(array(float64, 2d, C), dtype=class(float64))\n \nThere are 2 candidate implementations:\n  - Of which 2 did not match due to:\n  Overload in function 'impl_np_array': File: numba/np/arrayobj.py: Line 5546.\n    With argument(s): '(array(float64, 2d, C), dtype=class(float64))':\n   Rejected as the implementation raised a specific error:\n     TypingError: Failed in nopython mode pipeline (step: nopython frontend)\n   No implementation of function Function(<intrinsic np_array>) found for signature:\n    \n    >>> np_array(array(float64, 2d, C), class(float64))\n    \n   There are 2 candidate implementations:\n         - Of which 2 did not match due to:\n         Intrinsic in function 'np_array': File: numba/np/arrayobj.py: Line 5520.\n           With argument(s): '(array(float64, 2d, C), class(float64))':\n          Rejected as the implementation raised a specific error:\n            TypingError: array(float64, 2d, C) not allowed in a homogeneous sequence\n     raised from /opt/miniconda3/envs/drug_comp_env/lib/python3.11/site-packages/numba/core/typing/npydecl.py:494\n   \n   During: resolving callee type: Function(<intrinsic np_array>)\n   During: typing of call at /opt/miniconda3/envs/drug_comp_env/lib/python3.11/site-packages/numba/np/arrayobj.py (5557)\n   \n   \n   File \"../../../../../../opt/miniconda3/envs/drug_comp_env/lib/python3.11/site-packages/numba/np/arrayobj.py\", line 5557:\n       def impl(object, dtype=None):\n           return np_array(object, dtype)\n           ^\n   \n   During: Pass nopython_type_inference\n  raised from /opt/miniconda3/envs/drug_comp_env/lib/python3.11/site-packages/numba/core/typeinfer.py:1074\n\nDuring: resolving callee type: Function(<built-in function array>)\nDuring: typing of call at /Users/stevenayoub/drug-computing/uci-pharmsci/assignments/energy_minimization/py_emlib.py (101)\n\n\nFile \"py_emlib.py\", line 101:\ndef calc_energy_forces(Pos):\n    <source elided>\n    \"\"\"\n    Pos = np.array(Pos, dtype=np.float64)\n    ^\n\nDuring: Pass nopython_type_inference"
     ]
    }
   ],
   "source": [
    "positions = [np.random.uniform(0, L, size=(N, 3)) for N in range(1, 26)]\n",
    "k_10 = minimize_clusters(num_iterations=10, N_min=2, N_max=25, density=0.001, dx=0.001, EFracTolCG=1.0e-10, EFracTolLS=1.0e-8) # takes about 32 seconds\n"
   ]
  },
  {
   "cell_type": "code",
   "execution_count": 33,
   "metadata": {},
   "outputs": [
    {
     "data": {
      "text/plain": [
       "[np.float64(-0.9999603150174478),\n",
       " np.float64(-2.999939429347125),\n",
       " np.float64(-5.999924999934065),\n",
       " np.float64(-9.103752193940016),\n",
       " np.float64(-12.71194879842045),\n",
       " np.float64(-16.505241235579497),\n",
       " np.float64(-19.82131564222783),\n",
       " np.float64(-23.148428596474915),\n",
       " np.float64(-28.42231847528848),\n",
       " np.float64(-31.77342767239153),\n",
       " np.float64(-37.96735457322612),\n",
       " np.float64(-39.65383609781103),\n",
       " np.float64(-47.84486606928927),\n",
       " np.float64(-52.32230833338415),\n",
       " np.float64(-55.558982371041886),\n",
       " np.float64(-60.41354596609355),\n",
       " np.float64(-63.95937675191819),\n",
       " np.float64(-68.51337735513927),\n",
       " np.float64(-74.78213993946602),\n",
       " np.float64(-78.03550383049826),\n",
       " np.float64(-84.82653324311624),\n",
       " np.float64(-90.679776439873),\n",
       " np.float64(-92.34118426963117),\n",
       " np.float64(-99.22481945008286)]"
      ]
     },
     "execution_count": 33,
     "metadata": {},
     "output_type": "execute_result"
    }
   ],
   "source": [
    "k_10['min_energies']"
   ]
  },
  {
   "cell_type": "code",
   "execution_count": null,
   "metadata": {},
   "outputs": [],
   "source": [
    "k_10"
   ]
  },
  {
   "cell_type": "code",
   "execution_count": 13,
   "metadata": {
    "collapsed": true,
    "id": "s4CQyPhN5cdT"
   },
   "outputs": [
    {
     "name": "stdout",
     "output_type": "stream",
     "text": [
      "Minimizing clusters for N=2...\n",
      "Minimizing clusters for N=3...\n",
      "Minimizing clusters for N=4...\n",
      "Minimizing clusters for N=5...\n",
      "Minimizing clusters for N=6...\n",
      "Minimizing clusters for N=7...\n"
     ]
    },
    {
     "ename": "KeyboardInterrupt",
     "evalue": "",
     "output_type": "error",
     "traceback": [
      "\u001b[0;31m---------------------------------------------------------------------------\u001b[0m",
      "\u001b[0;31mKeyboardInterrupt\u001b[0m                         Traceback (most recent call last)",
      "Cell \u001b[0;32mIn[13], line 3\u001b[0m\n\u001b[1;32m      1\u001b[0m \u001b[38;5;66;03m# #Your code for this here \u001b[39;00m\n\u001b[1;32m      2\u001b[0m \u001b[38;5;66;03m# Execute in serial here \u001b[39;00m\n\u001b[0;32m----> 3\u001b[0m k_100 \u001b[38;5;241m=\u001b[39m \u001b[43mminimize_clusters\u001b[49m\u001b[43m(\u001b[49m\u001b[43mnum_iterations\u001b[49m\u001b[38;5;241;43m=\u001b[39;49m\u001b[38;5;241;43m100\u001b[39;49m\u001b[43m,\u001b[49m\u001b[43m \u001b[49m\u001b[43mN_min\u001b[49m\u001b[38;5;241;43m=\u001b[39;49m\u001b[38;5;241;43m2\u001b[39;49m\u001b[43m,\u001b[49m\u001b[43m \u001b[49m\u001b[43mN_max\u001b[49m\u001b[38;5;241;43m=\u001b[39;49m\u001b[38;5;241;43m25\u001b[39;49m\u001b[43m,\u001b[49m\u001b[43m \u001b[49m\u001b[43mdensity\u001b[49m\u001b[38;5;241;43m=\u001b[39;49m\u001b[38;5;241;43m0.001\u001b[39;49m\u001b[43m,\u001b[49m\u001b[43m \u001b[49m\u001b[43mdx\u001b[49m\u001b[38;5;241;43m=\u001b[39;49m\u001b[38;5;241;43m0.001\u001b[39;49m\u001b[43m,\u001b[49m\u001b[43m \u001b[49m\u001b[43mEFracTolCG\u001b[49m\u001b[38;5;241;43m=\u001b[39;49m\u001b[38;5;241;43m1.0e-10\u001b[39;49m\u001b[43m,\u001b[49m\u001b[43m \u001b[49m\u001b[43mEFracTolLS\u001b[49m\u001b[38;5;241;43m=\u001b[39;49m\u001b[38;5;241;43m1.0e-8\u001b[39;49m\u001b[43m)\u001b[49m \u001b[38;5;66;03m# takes about 32 seconds\u001b[39;00m\n\u001b[1;32m      4\u001b[0m k_1000 \u001b[38;5;241m=\u001b[39m minimize_clusters(num_iterations\u001b[38;5;241m=\u001b[39m\u001b[38;5;241m1000\u001b[39m, N_min\u001b[38;5;241m=\u001b[39m\u001b[38;5;241m2\u001b[39m, N_max\u001b[38;5;241m=\u001b[39m\u001b[38;5;241m25\u001b[39m, density\u001b[38;5;241m=\u001b[39m\u001b[38;5;241m0.001\u001b[39m, dx\u001b[38;5;241m=\u001b[39m\u001b[38;5;241m0.001\u001b[39m, EFracTolCG\u001b[38;5;241m=\u001b[39m\u001b[38;5;241m1.0e-10\u001b[39m, EFracTolLS\u001b[38;5;241m=\u001b[39m\u001b[38;5;241m1.0e-8\u001b[39m) \u001b[38;5;66;03m# increase factor of 10 should take ~320s : 5.3 mins \u001b[39;00m\n\u001b[1;32m      5\u001b[0m k_10000 \u001b[38;5;241m=\u001b[39m  minimize_clusters(num_iterations\u001b[38;5;241m=\u001b[39m\u001b[38;5;241m1000\u001b[39m, N_min\u001b[38;5;241m=\u001b[39m\u001b[38;5;241m2\u001b[39m, N_max\u001b[38;5;241m=\u001b[39m\u001b[38;5;241m25\u001b[39m, density\u001b[38;5;241m=\u001b[39m\u001b[38;5;241m0.001\u001b[39m, dx\u001b[38;5;241m=\u001b[39m\u001b[38;5;241m0.001\u001b[39m, EFracTolCG\u001b[38;5;241m=\u001b[39m\u001b[38;5;241m1.0e-10\u001b[39m, EFracTolLS\u001b[38;5;241m=\u001b[39m\u001b[38;5;241m1.0e-8\u001b[39m) \u001b[38;5;66;03m# increase factor of 10 should take ~53 mins \u001b[39;00m\n",
      "Cell \u001b[0;32mIn[10], line 25\u001b[0m, in \u001b[0;36mminimize_clusters\u001b[0;34m(num_iterations, N_min, N_max, density, dx, EFracTolCG, EFracTolLS)\u001b[0m\n\u001b[1;32m     22\u001b[0m     Pos \u001b[38;5;241m=\u001b[39m np\u001b[38;5;241m.\u001b[39mrandom\u001b[38;5;241m.\u001b[39muniform(\u001b[38;5;241m0\u001b[39m, L, size\u001b[38;5;241m=\u001b[39m(N, \u001b[38;5;241m3\u001b[39m))\n\u001b[1;32m     24\u001b[0m     \u001b[38;5;66;03m# Perform energy minimization\u001b[39;00m\n\u001b[0;32m---> 25\u001b[0m     PEnergy, _ \u001b[38;5;241m=\u001b[39m \u001b[43mConjugateGradient\u001b[49m\u001b[43m(\u001b[49m\u001b[43mPos\u001b[49m\u001b[43m,\u001b[49m\u001b[43m \u001b[49m\u001b[43mdx\u001b[49m\u001b[43m,\u001b[49m\u001b[43m \u001b[49m\u001b[43mEFracTolLS\u001b[49m\u001b[43m,\u001b[49m\u001b[43m \u001b[49m\u001b[43mEFracTolCG\u001b[49m\u001b[43m)\u001b[49m\n\u001b[1;32m     26\u001b[0m     energies\u001b[38;5;241m.\u001b[39mappend(PEnergy)\n\u001b[1;32m     28\u001b[0m \u001b[38;5;66;03m# Analyze and store results\u001b[39;00m\n",
      "Cell \u001b[0;32mIn[8], line 15\u001b[0m, in \u001b[0;36mConjugateGradient\u001b[0;34m(Pos, dx, EFracTolLS, EFracTolCG)\u001b[0m\n\u001b[1;32m     12\u001b[0m count \u001b[38;5;241m=\u001b[39m \u001b[38;5;241m0\u001b[39m \n\u001b[1;32m     13\u001b[0m \u001b[38;5;28;01mwhile\u001b[39;00m \u001b[38;5;28;01mTrue\u001b[39;00m:\n\u001b[1;32m     14\u001b[0m     \u001b[38;5;66;03m# Perform line search along the current gradient \u001b[39;00m\n\u001b[0;32m---> 15\u001b[0m     PEnergy, Pos \u001b[38;5;241m=\u001b[39m \u001b[43mLineSearch\u001b[49m\u001b[43m(\u001b[49m\u001b[43mPos\u001b[49m\u001b[43m,\u001b[49m\u001b[43m \u001b[49m\u001b[43mDir\u001b[49m\u001b[43m,\u001b[49m\u001b[43m \u001b[49m\u001b[43mdx\u001b[49m\u001b[43m,\u001b[49m\u001b[43m \u001b[49m\u001b[43mEFracTolLS\u001b[49m\u001b[43m)\u001b[49m\n\u001b[1;32m     16\u001b[0m     \u001b[38;5;66;03m#print('new energy:', PEnergy)\u001b[39;00m\n\u001b[1;32m     17\u001b[0m     \u001b[38;5;66;03m# check if energies have converged?\u001b[39;00m\n\u001b[1;32m     18\u001b[0m     \u001b[38;5;28;01mif\u001b[39;00m \u001b[38;5;28mabs\u001b[39m(previous_energy \u001b[38;5;241m-\u001b[39m PEnergy) \u001b[38;5;241m<\u001b[39m EFracTolCG \u001b[38;5;241m*\u001b[39m \u001b[38;5;28mabs\u001b[39m(PEnergy):\n",
      "Cell \u001b[0;32mIn[4], line 46\u001b[0m, in \u001b[0;36mLineSearch\u001b[0;34m(Pos, Dir, dx, EFracTol, Accel, MaxInc, MaxIter)\u001b[0m\n\u001b[1;32m     44\u001b[0m \u001b[38;5;66;03m#find a fourth point and evaluate energy\u001b[39;00m\n\u001b[1;32m     45\u001b[0m Dists\u001b[38;5;241m.\u001b[39mappend( Dists[\u001b[38;5;241m-\u001b[39m\u001b[38;5;241m1\u001b[39m] \u001b[38;5;241m+\u001b[39m dx )\n\u001b[0;32m---> 46\u001b[0m PEs\u001b[38;5;241m.\u001b[39mappend( \u001b[43mpy_emlib\u001b[49m\u001b[38;5;241;43m.\u001b[39;49m\u001b[43mcalc_energy\u001b[49m\u001b[43m(\u001b[49m\u001b[43mPos\u001b[49m\u001b[43m \u001b[49m\u001b[38;5;241;43m+\u001b[39;49m\u001b[43m \u001b[49m\u001b[43mNormDir\u001b[49m\u001b[43m \u001b[49m\u001b[38;5;241;43m*\u001b[39;49m\u001b[43m \u001b[49m\u001b[43mDists\u001b[49m\u001b[43m[\u001b[49m\u001b[38;5;241;43m-\u001b[39;49m\u001b[38;5;241;43m1\u001b[39;49m\u001b[43m]\u001b[49m\u001b[43m)\u001b[49m )\n\u001b[1;32m     48\u001b[0m \u001b[38;5;66;03m#check if we increased too much in energy; if so, back off\u001b[39;00m\n\u001b[1;32m     49\u001b[0m \u001b[38;5;28;01mif\u001b[39;00m (PEs[\u001b[38;5;241m3\u001b[39m] \u001b[38;5;241m-\u001b[39m PEs[\u001b[38;5;241m0\u001b[39m]) \u001b[38;5;241m>\u001b[39m MaxInc \u001b[38;5;241m*\u001b[39m (PEs[\u001b[38;5;241m0\u001b[39m] \u001b[38;5;241m-\u001b[39m PEs[\u001b[38;5;241m2\u001b[39m]):\n",
      "File \u001b[0;32m~/drug-computing/uci-pharmsci/assignments/energy_minimization/py_emlib.py:34\u001b[0m, in \u001b[0;36mcalc_energy\u001b[0;34m(Pos)\u001b[0m\n\u001b[1;32m     32\u001b[0m         id6 \u001b[38;5;241m=\u001b[39m id2 \u001b[38;5;241m*\u001b[39m id2 \u001b[38;5;241m*\u001b[39m id2    \n\u001b[1;32m     33\u001b[0m         id12 \u001b[38;5;241m=\u001b[39m id6 \u001b[38;5;241m*\u001b[39m id6\n\u001b[0;32m---> 34\u001b[0m         PEnergy \u001b[38;5;241m+\u001b[39m\u001b[38;5;241m=\u001b[39m \u001b[38;5;241m4.0\u001b[39m \u001b[38;5;241m*\u001b[39m (id12 \u001b[38;5;241m-\u001b[39m id6)\n\u001b[1;32m     36\u001b[0m     PEnergy \u001b[38;5;241m+\u001b[39m\u001b[38;5;241m=\u001b[39m alpha \u001b[38;5;241m*\u001b[39m np\u001b[38;5;241m.\u001b[39msum(position_i \u001b[38;5;241m*\u001b[39m position_i)\n\u001b[1;32m     38\u001b[0m \u001b[38;5;28;01mreturn\u001b[39;00m PEnergy\n",
      "\u001b[0;31mKeyboardInterrupt\u001b[0m: "
     ]
    }
   ],
   "source": [
    "# #Your code for this here \n",
    "# Execute in serial here \n",
    "k_100 = minimize_clusters(num_iterations=100, N_min=2, N_max=25, density=0.001, dx=0.001, EFracTolCG=1.0e-10, EFracTolLS=1.0e-8) # takes about 32 seconds\n",
    "k_1000 = minimize_clusters(num_iterations=1000, N_min=2, N_max=25, density=0.001, dx=0.001, EFracTolCG=1.0e-10, EFracTolLS=1.0e-8) # increase factor of 10 should take ~320s : 5.3 mins \n",
    "k_10000 =  minimize_clusters(num_iterations=1000, N_min=2, N_max=25, density=0.001, dx=0.001, EFracTolCG=1.0e-10, EFracTolLS=1.0e-8) # increase factor of 10 should take ~53 mins "
   ]
  },
  {
   "cell_type": "code",
   "execution_count": 15,
   "metadata": {},
   "outputs": [],
   "source": [
    "# Wrote a parallel script and pickled the results:\n",
    "# k=10,000 took about ~ 9mins\n",
    "import pickle\n",
    "\n",
    "with open('cluster_minimization_results_k_100.pkl', 'rb') as file:\n",
    "    energies_k_100 = pickle.load(file)\n",
    "\n",
    "with open('cluster_minimization_results_k_1000.pkl', 'rb') as file:\n",
    "    energies_k_1000 = pickle.load(file)\n",
    "    \n",
    "with open('cluster_minimization_results_10000.pkl', 'rb') as file:\n",
    "    energies_k_10000 = pickle.load(file)\n",
    "    \n",
    "# luna ouput \n",
    "with open('test_N_25_energies_k_1000.pickle', 'rb') as file:\n",
    "    luna_k_1000 = pickle.load(file)"
   ]
  },
  {
   "cell_type": "code",
   "execution_count": 17,
   "metadata": {},
   "outputs": [
    {
     "data": {
      "image/png": "[encoded data removed]",
      "text/plain": [
       "<Figure size 640x480 with 1 Axes>"
      ]
     },
     "metadata": {},
     "output_type": "display_data"
    }
   ],
   "source": [
    "import matplotlib.pyplot as plt \n",
    "\n",
    "plt.hist(luna_k_1000['energies'])\n",
    "\n",
    "plt.show()"
   ]
  },
  {
   "cell_type": "markdown",
   "metadata": {},
   "source": [
    "### Plot the Minimum Energies vs Number of Particles"
   ]
  },
  {
   "cell_type": "code",
   "execution_count": 2,
   "metadata": {},
   "outputs": [
    {
     "ename": "NameError",
     "evalue": "name 'energies_k_100' is not defined",
     "output_type": "error",
     "traceback": [
      "\u001b[0;31m---------------------------------------------------------------------------\u001b[0m",
      "\u001b[0;31mNameError\u001b[0m                                 Traceback (most recent call last)",
      "Cell \u001b[0;32mIn[2], line 3\u001b[0m\n\u001b[1;32m      1\u001b[0m \u001b[38;5;28;01mimport\u001b[39;00m\u001b[38;5;250m \u001b[39m\u001b[38;5;21;01mmatplotlib\u001b[39;00m\u001b[38;5;21;01m.\u001b[39;00m\u001b[38;5;21;01mpyplot\u001b[39;00m\u001b[38;5;250m \u001b[39m\u001b[38;5;28;01mas\u001b[39;00m\u001b[38;5;250m \u001b[39m\u001b[38;5;21;01mplt\u001b[39;00m \n\u001b[0;32m----> 3\u001b[0m plt\u001b[38;5;241m.\u001b[39mplot(\u001b[43menergies_k_100\u001b[49m[\u001b[38;5;124m'\u001b[39m\u001b[38;5;124mN\u001b[39m\u001b[38;5;124m'\u001b[39m], energies_k_100[\u001b[38;5;124m'\u001b[39m\u001b[38;5;124mmin_energies\u001b[39m\u001b[38;5;124m'\u001b[39m], label\u001b[38;5;241m=\u001b[39m\u001b[38;5;124m'\u001b[39m\u001b[38;5;124mk=100\u001b[39m\u001b[38;5;124m'\u001b[39m)\n\u001b[1;32m      4\u001b[0m plt\u001b[38;5;241m.\u001b[39mplot(energies_k_1000[\u001b[38;5;124m'\u001b[39m\u001b[38;5;124mN\u001b[39m\u001b[38;5;124m'\u001b[39m], energies_k_1000[\u001b[38;5;124m'\u001b[39m\u001b[38;5;124mmin_energies\u001b[39m\u001b[38;5;124m'\u001b[39m], label\u001b[38;5;241m=\u001b[39m\u001b[38;5;124m'\u001b[39m\u001b[38;5;124mk=1000\u001b[39m\u001b[38;5;124m'\u001b[39m)\n\u001b[1;32m      5\u001b[0m plt\u001b[38;5;241m.\u001b[39mplot(energies_k_10000[\u001b[38;5;124m'\u001b[39m\u001b[38;5;124mN\u001b[39m\u001b[38;5;124m'\u001b[39m], energies_k_10000[\u001b[38;5;124m'\u001b[39m\u001b[38;5;124mmin_energies\u001b[39m\u001b[38;5;124m'\u001b[39m], label\u001b[38;5;241m=\u001b[39m\u001b[38;5;124m'\u001b[39m\u001b[38;5;124mk=10000\u001b[39m\u001b[38;5;124m'\u001b[39m)\n",
      "\u001b[0;31mNameError\u001b[0m: name 'energies_k_100' is not defined"
     ]
    }
   ],
   "source": [
    "import matplotlib.pyplot as plt \n",
    "\n",
    "plt.plot(energies_k_100['N'], energies_k_100['min_energies'], label='k=100')\n",
    "plt.plot(energies_k_1000['N'], energies_k_1000['min_energies'], label='k=1000')\n",
    "plt.plot(energies_k_10000['N'], energies_k_10000['min_energies'], label='k=10000')\n",
    "\n",
    "plt.ylabel('Potential Energy (-U)')\n",
    "plt.xlabel('Number of Particles (N)')\n",
    "\n",
    "plt.grid()\n",
    "plt.legend()\n",
    "plt.show()\n"
   ]
  },
  {
   "cell_type": "markdown",
   "metadata": {},
   "source": [
    "### Plot the Average Energies vs Number of Particles"
   ]
  },
  {
   "cell_type": "code",
   "execution_count": 134,
   "metadata": {},
   "outputs": [
    {
     "data": {
      "image/png": "[encoded data removed]",
      "text/plain": [
       "<Figure size 640x480 with 1 Axes>"
      ]
     },
     "metadata": {},
     "output_type": "display_data"
    }
   ],
   "source": [
    "plt.plot(energies_k_100['N'], energies_k_100['avg_energies'], label='k=100')\n",
    "plt.plot(energies_k_1000['N'], energies_k_1000['avg_energies'], label='k=1000')\n",
    "plt.plot(energies_k_10000['N'], energies_k_10000['avg_energies'], label='k=10000')\n",
    "\n",
    "plt.ylabel('Average Energies')\n",
    "plt.xlabel('Number of Particles (N)')\n",
    "\n",
    "plt.grid()\n",
    "plt.legend()\n",
    "plt.show()"
   ]
  },
  {
   "cell_type": "markdown",
   "metadata": {
    "id": "swp53i0X5cdT"
   },
   "source": [
    "## Step 6: Compare with what's expected\n",
    "\n",
    "Compare your results (your minimum energy at each N value) with the known global minimum energies, via a plot and by commenting on the results. These are from ( Leary, J. Global Optimization 11:35 (1997)). Add this curve to your graph. Why might your results be higher?\n",
    "\n",
    "<img src=\"https://github.com/aakankschit/drug-computing/blob/master/uci-pharmsci/assignments/energy_minimization/Leary_table.png?raw=1\" width=500>\n"
   ]
  },
  {
   "cell_type": "code",
   "execution_count": 132,
   "metadata": {
    "collapsed": true,
    "id": "SdtCYwY95cdT"
   },
   "outputs": [
    {
     "data": {
      "image/png": "[encoded data removed]",
      "text/plain": [
       "<Figure size 640x480 with 1 Axes>"
      ]
     },
     "metadata": {},
     "output_type": "display_data"
    }
   ],
   "source": [
    "N_particles = [x for x in range(2, 26)]\n",
    "\n",
    "leary_data = {\n",
    "    'N': N_particles,\n",
    "    'PEnergy': [-1, -3, -6, -9.1038,\n",
    "                -12.7120, -16.5054, -19.8215,\n",
    "                -24.1134, -28.4225, -32.7660, \n",
    "                -37.9676, -44.3268, -47.8451,\n",
    "                -52.3226, -56.8157, -61.3180, \n",
    "                -66.5309, -72.6598, -77.1770, \n",
    "                -81.68090, -86.8090, -92.8445, \n",
    "                -97.3488, -102.3727]\n",
    "}\n",
    "\n",
    "\n",
    "import matplotlib.pyplot as plt \n",
    "\n",
    "plt.plot(energies_k_10000['N'], energies_k_10000['min_energies'], label='k=10000')\n",
    "plt.plot(leary_data['N'], leary_data['PEnergy'], label='Leary Data')\n",
    "\n",
    "plt.ylabel('Potential Energy (-U)')\n",
    "plt.xlabel('Number of Particles (N)')\n",
    "\n",
    "plt.grid()\n",
    "plt.legend()\n",
    "plt.show()\n"
   ]
  },
  {
   "cell_type": "markdown",
   "metadata": {
    "id": "OghtRLxJ5cdT"
   },
   "source": [
    "## Step 7: Fit a curve to the data \n",
    "\n",
    "(**For undergraduates, this section is optional.**)\n",
    "\n",
    "Based on macroscopic arguments, the energy of a cluster could scale with both surface area (via a surface tension) and volume (via an energy density for bulk) of the cluster. So we could model the minimum energy as depending on the cluster size in this way:\n",
    "\\begin{equation}\n",
    "U_{min} \\propto a + b N^{2/3} +cN\n",
    "\\end{equation}\n",
    "\n",
    "Fit this equation to your data in the K=10000 case. You can do this using a least-squares fit, for example using fitting functions within SciPy (`optimize.leastsq`, for example, or similar functions in `scipy.stats`. A fairly dated tutorial is [here](http://www.tau.ac.il/~kineret/amit/scipy_tutorial) (sec 5.4), or see [stack overflow](https://stackoverflow.com/questions/19791581/how-to-use-leastsq-function-from-scipy-optimize-in-python-to-fit-both-a-straight).\n",
    "\n",
    "**Once you perform the fit, plot the difference between the true minimum energy and the expected energy from this equation as a function of N. Can you identify the magic numbers from this curve?**"
   ]
  },
  {
   "cell_type": "code",
   "execution_count": null,
   "metadata": {},
   "outputs": [],
   "source": [
    "def main():\n",
    "   # data provided\n",
    "   x=np.array([1.0,2.5,3.5,4.0,1.1,1.8,2.2,3.7])\n",
    "   y=np.array([6.008,15.722,27.130,33.772,5.257,9.549,11.098,28.828])\n",
    "   # here, create lambda functions for Line, Quadratic fit\n",
    "   # tpl is a tuple that contains the parameters of the fit\n",
    "   funcLine=lambda tpl,x : tpl[0]*x+tpl[1]\n",
    "   funcQuad=lambda tpl,x : tpl[0]*x**2+tpl[1]*x+tpl[2]\n",
    "   # func is going to be a placeholder for funcLine,funcQuad or whatever \n",
    "   # function we would like to fit\n",
    "   func=funcLine\n",
    "   # ErrorFunc is the diference between the func and the y \"experimental\" data\n",
    "   ErrorFunc=lambda tpl,x,y: func(tpl,x)-y\n",
    "   #tplInitial contains the \"first guess\" of the parameters \n",
    "   tplInitial1=(1.0,2.0)\n",
    "   # leastsq finds the set of parameters in the tuple tpl that minimizes\n",
    "   # ErrorFunc=yfit-yExperimental\n",
    "   tplFinal1,success=leastsq(ErrorFunc,tplInitial1[:],args=(x,y))\n",
    "   print \" linear fit \",tplFinal1\n",
    "   xx1=np.linspace(x.min(),x."
   ]
  },
  {
   "cell_type": "code",
   "execution_count": 19,
   "metadata": {
    "collapsed": true,
    "id": "Uv-bZgI95cdT"
   },
   "outputs": [
    {
     "name": "stdout",
     "output_type": "stream",
     "text": [
      "parameters [-3.06199951 11.44861539 -7.90793927]\n"
     ]
    }
   ],
   "source": [
    "#Your code here\n",
    "from scipy.optimize import leastsq\n",
    "from scipy.optimize import curve_fit\n",
    "\n",
    "\n",
    "def model_func(N, guess):\n",
    "    \n",
    "    return guess[0] + guess[1] * N**(2/3) + guess[2] * N \n",
    "\n",
    "# difference between predicted and observed \n",
    "def ErrorFunc(guess, N, U_min):\n",
    "    \n",
    "    return  model_func(N, guess) - U_min\n",
    "    \n",
    "x = np.array(energies_k_10000['N'])\n",
    "y =  np.array(energies_k_10000['min_energies'])\n",
    "\n",
    "inital_guess = [1,1,1]\n",
    "\n",
    "parameters,success=leastsq(ErrorFunc,inital_guess[:],args=(x, y))\n",
    "print('parameters', parameters)\n",
    "\n",
    "# use fitted parameters \n",
    "\n",
    "predictions = [model_func(N, parameters) for N in x]\n",
    "# calculate the difference \n",
    "differences =y - predictions\n",
    "\n"
   ]
  },
  {
   "cell_type": "code",
   "execution_count": 36,
   "metadata": {},
   "outputs": [
    {
     "data": {
      "text/plain": [
       "array([19])"
      ]
     },
     "execution_count": 36,
     "metadata": {},
     "output_type": "execute_result"
    }
   ],
   "source": [
    "x[[17]]"
   ]
  },
  {
   "cell_type": "code",
   "execution_count": 23,
   "metadata": {},
   "outputs": [
    {
     "data": {
      "text/plain": [
       "array([-0.29562638, -0.02820178, -0.15487145,  0.02198919, -0.0048088 ,\n",
       "        0.01834949,  0.70973647,  0.58500443,  0.57930823,  0.65774128,\n",
       "       -0.01780442, -1.7581538 , -0.57427055, -0.27401118,  0.0794534 ,\n",
       "        0.48694674,  0.24198326, -0.86487498, -0.30994615,  0.30160691,\n",
       "        0.33941774, -0.4909622 ,  0.24792488,  0.50406968])"
      ]
     },
     "execution_count": 23,
     "metadata": {},
     "output_type": "execute_result"
    }
   ],
   "source": [
    "differences"
   ]
  },
  {
   "cell_type": "code",
   "execution_count": 34,
   "metadata": {},
   "outputs": [
    {
     "data": {
      "text/plain": [
       "np.float64(0.7097364653681453)"
      ]
     },
     "execution_count": 34,
     "metadata": {},
     "output_type": "execute_result"
    }
   ],
   "source": [
    "np.max(differences) "
   ]
  },
  {
   "cell_type": "code",
   "execution_count": 35,
   "metadata": {},
   "outputs": [
    {
     "data": {
      "text/plain": [
       "np.int64(16)"
      ]
     },
     "execution_count": 35,
     "metadata": {},
     "output_type": "execute_result"
    }
   ],
   "source": [
    "np.argmin(np.array([-0.29562638, -0.02820178, -0.15487145,  0.02198919, -0.0048088 ,\n",
    "        0.01834949,  0.70973647,  0.58500443,  0.57930823,  0.65774128,\n",
    "       -0.01780442,  -0.57427055, -0.27401118,  0.0794534 ,\n",
    "        0.48694674,  0.24198326, -0.86487498, -0.30994615,  0.30160691,\n",
    "        0.33941774, -0.4909622 ,  0.24792488,  0.50406968]))"
   ]
  },
  {
   "cell_type": "code",
   "execution_count": 39,
   "metadata": {},
   "outputs": [
    {
     "data": {
      "image/png": "[encoded data removed]",
      "text/plain": [
       "<Figure size 800x500 with 1 Axes>"
      ]
     },
     "metadata": {},
     "output_type": "display_data"
    },
    {
     "data": {
      "image/png": "[encoded data removed]",
      "text/plain": [
       "<Figure size 800x500 with 1 Axes>"
      ]
     },
     "metadata": {},
     "output_type": "display_data"
    }
   ],
   "source": [
    "# Plot residuals\n",
    "plt.figure(figsize=(8, 5))\n",
    "plt.plot(x, differences, 'o-', label='Residuals (U_min - U_pred)')\n",
    "plt.axhline(0, color='gray', linestyle='--', linewidth=1)\n",
    "plt.xlabel('Cluster Size (N)')\n",
    "plt.ylabel('Residuals')\n",
    "plt.title('Residuals vs Cluster Size')\n",
    "plt.axvline(x=13,  color='red', linestyle='--')\n",
    "plt.axvline(x=19,  color='red', linestyle='--')\n",
    "plt.legend()\n",
    "plt.show()\n",
    "\n",
    "# Plot observed vs fitted\n",
    "plt.figure(figsize=(8, 5))\n",
    "plt.plot(x, y, 'o', label='Observed $U_{min}$')\n",
    "plt.plot(x, predictions, '-', label='Fitted Model')\n",
    "plt.xlabel('Cluster Size (N)')\n",
    "plt.ylabel('Minimum Energy ($U_{min}$)')\n",
    "plt.title('Observed vs Fitted $U_{min}$')\n",
    "\n",
    "plt.legend()\n",
    "plt.show()"
   ]
  },
  {
   "cell_type": "markdown",
   "metadata": {
    "id": "WOUVHreK5cdU"
   },
   "source": [
    "## Step 8: Submit your results\n",
    "\n",
    "Submit (via Canvas) your graphs, with axes and curves labeled. Also attach a copy of your Python code (this notebook or, if you prefer, a separate script). Specifically, you should be including:\n",
    "* Your Python code\n",
    "* A graph (or graphs) of minimum and average energies as a function of N for K=100, 1000, and 10000. (Note you can use savefig to save graphs). These can be included in this notebook, or saved separately.\n",
    "* A graph comparing your results for the K=10000 case with the expected results from Leary, as a function of N, overlaid with a fitted curve using the equation above (Step 7); undergrads can omit the fit if desired as this is optional. Provide the parameters determined in your fit.\n",
    "* Give brief discussion of why your results might be higher than those of Leary. Comment on the magic numbers (step 7).  \n",
    "\n",
    "### Please give clear answers to questions given above, ideally in a box below or a separate report\n",
    "\n",
    "Specifically, explain whether you can identify the magic numbers, how you can tell what they are, etc. If you are not certain whether your results are right, explain any reservations you have and why, discuss where you think you might have gone wrong, etc. Basically, be sure to answer all my questions AND give a very brief discussion of your results. The main ways to lose points on this assignment are to:\n",
    "- not finish\n",
    "- submit late\n",
    "- not discuss your results\n",
    "I tend to be generous with partial credit for people whose work is mostly correct/mostly complete."
   ]
  }
 ],
 "metadata": {
  "anaconda-cloud": {},
  "colab": {
   "name": "energy_minimization_assignment.ipynb",
   "provenance": []
  },
  "kernelspec": {
   "display_name": "drug_comp_env",
   "language": "python",
   "name": "python3"
  },
  "language_info": {
   "codemirror_mode": {
    "name": "ipython",
    "version": 3
   },
   "file_extension": ".py",
   "mimetype": "text/x-python",
   "name": "python",
   "nbconvert_exporter": "python",
   "pygments_lexer": "ipython3",
   "version": "3.11.8"
  },
  "toc": {
   "nav_menu": {},
   "number_sections": true,
   "sideBar": true,
   "skip_h1_title": false,
   "toc_cell": false,
   "toc_position": {},
   "toc_section_display": "block",
   "toc_window_display": false
  }
 },
 "nbformat": 4,
 "nbformat_minor": 1
}
